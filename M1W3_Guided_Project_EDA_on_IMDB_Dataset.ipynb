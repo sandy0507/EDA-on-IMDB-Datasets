{
  "nbformat": 4,
  "nbformat_minor": 0,
  "metadata": {
    "kernelspec": {
      "display_name": "Python 3",
      "language": "python",
      "name": "python3"
    },
    "language_info": {
      "codemirror_mode": {
        "name": "ipython",
        "version": 3
      },
      "file_extension": ".py",
      "mimetype": "text/x-python",
      "name": "python",
      "nbconvert_exporter": "python",
      "pygments_lexer": "ipython3",
      "version": "3.7.1"
    },
    "colab": {
      "name": " M1W3 - Guided Project - EDA on IMDB Dataset.ipynb",
      "provenance": [],
      "collapsed_sections": [],
      "include_colab_link": true
    }
  },
  "cells": [
    {
      "cell_type": "markdown",
      "metadata": {
        "id": "view-in-github",
        "colab_type": "text"
      },
      "source": [
        "<a href=\"https://colab.research.google.com/github/sandy0507/ICC-data-analysis/blob/main/M1W3_Guided_Project_EDA_on_IMDB_Dataset.ipynb\" target=\"_parent\"><img src=\"https://colab.research.google.com/assets/colab-badge.svg\" alt=\"Open In Colab\"/></a>"
      ]
    },
    {
      "cell_type": "markdown",
      "metadata": {
        "id": "3_Fv7J8jTBlu"
      },
      "source": [
        "## You have been hired by a rookie movie producer to help him decide what type of movies to produce and which actors to cast. You have to back your recommendations based on thorough analysis of the data he shared with you which has the list of 3000 movies and the corresponding details.\n",
        "\n",
        "## As a data scientist, you have to first explore the data and check its sanity.\n",
        "\n",
        "## Further, you have to answer the following questions:\n",
        "1. ### <b> Which movie made the highest profit? Who were its producer and director? Identify the actors in that film.</b>\n",
        "2. ### <b>This data has information about movies made in different languages. Which language has the highest average ROI (return on investment)? </b>\n",
        "3. ### <b> Find out the unique genres of movies in this dataset.</b>\n",
        "4. ### <b> Make a table of all the producers and directors of each movie. Find the top 3 producers who have produced movies with the highest average RoI? </b>\n",
        "5. ### <b> Which actor has acted in the most number of movies? Deep dive into the movies, genres and profits corresponding to this actor. </b>\n",
        "6. ### <b>Top 3 directors prefer which actors the most? </b>\n",
        "\n"
      ]
    },
    {
      "cell_type": "markdown",
      "metadata": {
        "id": "Fx8CVjtZW_BF"
      },
      "source": [
        "# Data Exploration"
      ]
    },
    {
      "cell_type": "code",
      "metadata": {
        "id": "vq7iMfybnKNP"
      },
      "source": [
        "#Import package\n",
        "import pandas as pd\n",
        "import numpy as np"
      ],
      "execution_count": null,
      "outputs": []
    },
    {
      "cell_type": "code",
      "metadata": {
        "colab": {
          "base_uri": "https://localhost:8080/"
        },
        "id": "bfj60VppMlbI",
        "outputId": "b6c1ecee-359e-48e9-fb7a-d9d4db688803"
      },
      "source": [
        "from google.colab import drive\n",
        "drive.mount('/content/drive')"
      ],
      "execution_count": null,
      "outputs": [
        {
          "output_type": "stream",
          "text": [
            "Drive already mounted at /content/drive; to attempt to forcibly remount, call drive.mount(\"/content/drive\", force_remount=True).\n"
          ],
          "name": "stdout"
        }
      ]
    },
    {
      "cell_type": "code",
      "metadata": {
        "id": "RbIHjdp3NkhR"
      },
      "source": [
        "read='/content/drive/MyDrive/ALmaBetter/Module 1: Python for Data Science/Week-3/Data Wrangling/imdb_data.csv'\n",
        "imdb_df=pd.read_csv(read)"
      ],
      "execution_count": null,
      "outputs": []
    },
    {
      "cell_type": "code",
      "metadata": {
        "id": "rXeer0j0WE1Q"
      },
      "source": [
        "imdb_df.head()"
      ],
      "execution_count": null,
      "outputs": []
    },
    {
      "cell_type": "code",
      "metadata": {
        "id": "WiryHVoZN_MD",
        "colab": {
          "base_uri": "https://localhost:8080/",
          "height": 103
        },
        "outputId": "86639916-41df-4d24-a22a-5df86e7e62c8"
      },
      "source": [
        "imdb_df.loc[0,'crew']"
      ],
      "execution_count": null,
      "outputs": [
        {
          "output_type": "execute_result",
          "data": {
            "application/vnd.google.colaboratory.intrinsic+json": {
              "type": "string"
            },
            "text/plain": [
              "'[{\\'credit_id\\': \\'59ac067c92514107af02c8c8\\', \\'department\\': \\'Directing\\', \\'gender\\': 0, \\'id\\': 1449071, \\'job\\': \\'First Assistant Director\\', \\'name\\': \\'Kelly Cantley\\', \\'profile_path\\': None}, {\\'credit_id\\': \\'52fe4ee7c3a36847f82afad7\\', \\'department\\': \\'Directing\\', \\'gender\\': 2, \\'id\\': 3227, \\'job\\': \\'Director\\', \\'name\\': \\'Steve Pink\\', \\'profile_path\\': \\'/myHOgo8mQSCiCAZNGMRdHVr03jr.jpg\\'}, {\\'credit_id\\': \\'5524ed25c3a3687ded000d88\\', \\'department\\': \\'Writing\\', \\'gender\\': 2, \\'id\\': 347335, \\'job\\': \\'Writer\\', \\'name\\': \\'Josh Heald\\', \\'profile_path\\': \\'/pwXJIenrDMrG7t3zNfLvr8w1RGU.jpg\\'}, {\\'credit_id\\': \\'5524ed2d925141720c001128\\', \\'department\\': \\'Writing\\', \\'gender\\': 2, \\'id\\': 347335, \\'job\\': \\'Characters\\', \\'name\\': \\'Josh Heald\\', \\'profile_path\\': \\'/pwXJIenrDMrG7t3zNfLvr8w1RGU.jpg\\'}, {\\'credit_id\\': \\'5524ed3d92514166c1004a5d\\', \\'department\\': \\'Production\\', \\'gender\\': 2, \\'id\\': 57822, \\'job\\': \\'Producer\\', \\'name\\': \\'Andrew Panay\\', \\'profile_path\\': None}, {\\'credit_id\\': \\'5524ed4bc3a3687df3000dd2\\', \\'department\\': \\'Production\\', \\'gender\\': 0, \\'id\\': 1451395, \\'job\\': \\'Associate Producer\\', \\'name\\': \\'Adam Blum\\', \\'profile_path\\': None}, {\\'credit_id\\': \\'5524ed5a925141720c00112c\\', \\'department\\': \\'Production\\', \\'gender\\': 2, \\'id\\': 52997, \\'job\\': \\'Executive Producer\\', \\'name\\': \\'Rob Corddry\\', \\'profile_path\\': \\'/k2zJL0V1nEZuFT08xUdOd3ucfXz.jpg\\'}, {\\'credit_id\\': \\'5524ed85c3a3687e0e000f56\\', \\'department\\': \\'Production\\', \\'gender\\': 0, \\'id\\': 62807, \\'job\\': \\'Executive Producer\\', \\'name\\': \\'Ben Ormand\\', \\'profile_path\\': None}, {\\'credit_id\\': \\'5524ed9fc3a3687e0e000f59\\', \\'department\\': \\'Sound\\', \\'gender\\': 2, \\'id\\': 23486, \\'job\\': \\'Original Music Composer\\', \\'name\\': \\'Christophe Beck\\', \\'profile_path\\': \\'/2fnJUmCk6IEpVIptpYaUk31epHx.jpg\\'}, {\\'credit_id\\': \\'5524eda6c3a3687e03000d28\\', \\'department\\': \\'Camera\\', \\'gender\\': 2, \\'id\\': 6117, \\'job\\': \\'Director of Photography\\', \\'name\\': \\'Declan Quinn\\', \\'profile_path\\': None}, {\\'credit_id\\': \\'5524edb4925141720c00113d\\', \\'department\\': \\'Editing\\', \\'gender\\': 0, \\'id\\': 1451396, \\'job\\': \\'Editor\\', \\'name\\': \\'Jamie Gross\\', \\'profile_path\\': None}, {\\'credit_id\\': \\'5524edc1925141727600102e\\', \\'department\\': \\'Production\\', \\'gender\\': 0, \\'id\\': 22219, \\'job\\': \\'Casting\\', \\'name\\': \\'Susie Farris\\', \\'profile_path\\': None}, {\\'credit_id\\': \\'5524edd192514171cb008257\\', \\'department\\': \\'Art\\', \\'gender\\': 0, \\'id\\': 1002643, \\'job\\': \\'Production Design\\', \\'name\\': \\'Ryan Berg\\', \\'profile_path\\': None}, {\\'credit_id\\': \\'555ad9be9251411e5b00d485\\', \\'department\\': \\'Production\\', \\'gender\\': 2, \\'id\\': 57431, \\'job\\': \\'Executive Producer\\', \\'name\\': \\'Matt Moore\\', \\'profile_path\\': None}, {\\'credit_id\\': \\'5677e93bc3a36816890087dc\\', \\'department\\': \\'Directing\\', \\'gender\\': 0, \\'id\\': 1551818, \\'job\\': \\'Script Supervisor\\', \\'name\\': \\'Nicole Garcea\\', \\'profile_path\\': None}, {\\'credit_id\\': \\'5677e96a92514179e10093d0\\', \\'department\\': \\'Production\\', \\'gender\\': 0, \\'id\\': 1551819, \\'job\\': \\'Production Coordinator\\', \\'name\\': \\'Jason Salzman\\', \\'profile_path\\': None}, {\\'credit_id\\': \\'5677e98492514179d2008cd9\\', \\'department\\': \\'Costume & Make-Up\\', \\'gender\\': 0, \\'id\\': 1422996, \\'job\\': \\'Costume Design\\', \\'name\\': \\'Carol Cutshall\\', \\'profile_path\\': None}, {\\'credit_id\\': \\'5677e9d5c3a368168e009414\\', \\'department\\': \\'Art\\', \\'gender\\': 2, \\'id\\': 500199, \\'job\\': \\'Set Decoration\\', \\'name\\': \\'Tim Cohn\\', \\'profile_path\\': None}, {\\'credit_id\\': \\'5677f89d9251417845001a61\\', \\'department\\': \\'Costume & Make-Up\\', \\'gender\\': 0, \\'id\\': 1527917, \\'job\\': \\'Hair Department Head\\', \\'name\\': \\'Voni Hinkle\\', \\'profile_path\\': None}, {\\'credit_id\\': \\'5677f8b392514179dd0089fb\\', \\'department\\': \\'Costume & Make-Up\\', \\'gender\\': 0, \\'id\\': 1431554, \\'job\\': \\'Makeup Department Head\\', \\'name\\': \\'Remi Savva\\', \\'profile_path\\': None}, {\\'credit_id\\': \\'5677f8d1c3a3681689008a4b\\', \\'department\\': \\'Art\\', \\'gender\\': 0, \\'id\\': 66495, \\'job\\': \\'Art Direction\\', \\'name\\': \\'Jason Baldwin Stewart\\', \\'profile_path\\': None}, {\\'credit_id\\': \\'5677f8eec3a3681685008dd5\\', \\'department\\': \\'Production\\', \\'gender\\': 0, \\'id\\': 1412466, \\'job\\': \\'Production Supervisor\\', \\'name\\': \\'Korey Budd\\', \\'profile_path\\': None}, {\\'credit_id\\': \\'5677f90a9251417845001a7d\\', \\'department\\': \\'Sound\\', \\'gender\\': 0, \\'id\\': 1401562, \\'job\\': \\'Sound Re-Recording Mixer\\', \\'name\\': \\'Gary C. Bourgeois\\', \\'profile_path\\': None}, {\\'credit_id\\': \\'5677f91e9251417845001a84\\', \\'department\\': \\'Sound\\', \\'gender\\': 0, \\'id\\': 1396794, \\'job\\': \\'Sound Re-Recording Mixer\\', \\'name\\': \\'Gabriel J. Serrano\\', \\'profile_path\\': None}, {\\'credit_id\\': \\'5677f938c3a3681680008dd4\\', \\'department\\': \\'Editing\\', \\'gender\\': 0, \\'id\\': 13168, \\'job\\': \\'Dialogue Editor\\', \\'name\\': \\'Victoria Rose Sampson\\', \\'profile_path\\': None}, {\\'credit_id\\': \\'5677f94e92514179dd008a1f\\', \\'department\\': \\'Sound\\', \\'gender\\': 0, \\'id\\': 1551839, \\'job\\': \\'Production Sound Mixer\\', \\'name\\': \\'Michael B. Koff\\', \\'profile_path\\': None}, {\\'credit_id\\': \\'5677f968c3a368168e009698\\', \\'department\\': \\'Sound\\', \\'gender\\': 0, \\'id\\': 113052, \\'job\\': \\'Sound Effects Editor\\', \\'name\\': \\'Randall Guth\\', \\'profile_path\\': None}, {\\'credit_id\\': \\'5677f98dc3a3681685008e02\\', \\'department\\': \\'Crew\\', \\'gender\\': 2, \\'id\\': 1442535, \\'job\\': \\'Stunt Coordinator\\', \\'name\\': \\'Chuck Picerni Jr.\\', \\'profile_path\\': \\'/yE5QtXUzcrnCzMRctZL8F5g842B.jpg\\'}, {\\'credit_id\\': \\'5677f9a692514179dd008a49\\', \\'department\\': \\'Camera\\', \\'gender\\': 0, \\'id\\': 1437305, \\'job\\': \\'Camera Operator\\', \\'name\\': \\'Michael Applebaum\\', \\'profile_path\\': None}, {\\'credit_id\\': \\'5677f9bd9251417845001aae\\', \\'department\\': \\'Camera\\', \\'gender\\': 0, \\'id\\': 1401765, \\'job\\': \\'Still Photographer\\', \\'name\\': \\'Steve Dietl\\', \\'profile_path\\': None}, {\\'credit_id\\': \\'5677f9e592514179e7008bf7\\', \\'department\\': \\'Lighting\\', \\'gender\\': 0, \\'id\\': 1402721, \\'job\\': \\'Rigging Gaffer\\', \\'name\\': \\'Tarik Naim Alherimi\\', \\'profile_path\\': None}, {\\'credit_id\\': \\'5677f9f4c3a368167c0090ed\\', \\'department\\': \\'Lighting\\', \\'gender\\': 0, \\'id\\': 1402719, \\'job\\': \\'Gaffer\\', \\'name\\': \\'Paul Olinde\\', \\'profile_path\\': None}, {\\'credit_id\\': \\'5677fa21c3a368168e0096ca\\', \\'department\\': \\'Sound\\', \\'gender\\': 0, \\'id\\': 1551840, \\'job\\': \\'Music Supervisor\\', \\'name\\': \\'Steve Griffen\\', \\'profile_path\\': None}, {\\'credit_id\\': \\'5677fa31c3a3681680008e04\\', \\'department\\': \\'Sound\\', \\'gender\\': 0, \\'id\\': 1551841, \\'job\\': \\'Music Editor\\', \\'name\\': \\'Matt Fausak\\', \\'profile_path\\': None}, {\\'credit_id\\': \\'5677fa4392514179dd008a76\\', \\'department\\': \\'Sound\\', \\'gender\\': 0, \\'id\\': 1551840, \\'job\\': \\'Music Editor\\', \\'name\\': \\'Steve Griffen\\', \\'profile_path\\': None}, {\\'credit_id\\': \\'5677fa609251417845001acf\\', \\'department\\': \\'Costume & Make-Up\\', \\'gender\\': 0, \\'id\\': 1403416, \\'job\\': \\'Costume Supervisor\\', \\'name\\': \\'Shonta T. McCray\\', \\'profile_path\\': None}, {\\'credit_id\\': \\'5677fa8492514179d2008fb3\\', \\'department\\': \\'Camera\\', \\'gender\\': 0, \\'id\\': 1425831, \\'job\\': \\'Steadicam Operator\\', \\'name\\': \\'Mark Karavite\\', \\'profile_path\\': None}, {\\'credit_id\\': \\'5677fab2c3a3681689008ac3\\', \\'department\\': \\'Camera\\', \\'gender\\': 0, \\'id\\': 1551842, \\'job\\': \\'First Assistant Camera\\', \\'name\\': \\'Joe Waistell\\', \\'profile_path\\': None}, {\\'credit_id\\': \\'5677faecc3a368168e0096fe\\', \\'department\\': \\'Sound\\', \\'gender\\': 0, \\'id\\': 58362, \\'job\\': \\'Supervising Sound Editor\\', \\'name\\': \\'Michael Hilkene\\', \\'profile_path\\': None}, {\\'credit_id\\': \\'59ac0368c3a3682c0a02c484\\', \\'department\\': \\'Crew\\', \\'gender\\': 0, \\'id\\': 1881584, \\'job\\': \\'Additional Writing\\', \\'name\\': \\'John Karnay\\', \\'profile_path\\': None}, {\\'credit_id\\': \\'59ac0411c3a3682bf0028966\\', \\'department\\': \\'Costume & Make-Up\\', \\'gender\\': 0, \\'id\\': 1431552, \\'job\\': \\'Hairstylist\\', \\'name\\': \\'Daina Daigle\\', \\'profile_path\\': None}, {\\'credit_id\\': \\'59ac0504925141072302b8fb\\', \\'department\\': \\'Costume & Make-Up\\', \\'gender\\': 0, \\'id\\': 1712001, \\'job\\': \\'Makeup Artist\\', \\'name\\': \\'Allison Gordin\\', \\'profile_path\\': None}, {\\'credit_id\\': \\'59ac0570c3a3682bf0028aac\\', \\'department\\': \\'Costume & Make-Up\\', \\'gender\\': 0, \\'id\\': 578725, \\'job\\': \\'Makeup Artist\\', \\'name\\': \\'Darryl Lucas\\', \\'profile_path\\': None}, {\\'credit_id\\': \\'59ac05a4925141077e02c97e\\', \\'department\\': \\'Costume & Make-Up\\', \\'gender\\': 0, \\'id\\': 1463274, \\'job\\': \\'Makeup Artist\\', \\'name\\': \\'Annabelle MacNeal\\', \\'profile_path\\': None}, {\\'credit_id\\': \\'59ac05c6925141076502d106\\', \\'department\\': \\'Costume & Make-Up\\', \\'gender\\': 0, \\'id\\': 1881586, \\'job\\': \\'Makeup Artist\\', \\'name\\': \\'Marina Savva\\', \\'profile_path\\': None}, {\\'credit_id\\': \\'59ac0615c3a3682c480296aa\\', \\'department\\': \\'Costume & Make-Up\\', \\'gender\\': 0, \\'id\\': 1406267, \\'job\\': \\'Hairstylist\\', \\'name\\': \\'Carl G. Variste\\', \\'profile_path\\': None}, {\\'credit_id\\': \\'59ac06ba925141076502d1fa\\', \\'department\\': \\'Directing\\', \\'gender\\': 0, \\'id\\': 1798593, \\'job\\': \\'First Assistant Director\\', \\'name\\': \\'Josh King\\', \\'profile_path\\': None}, {\\'credit_id\\': \\'59ac06f1c3a3682c2202aca0\\', \\'department\\': \\'Art\\', \\'gender\\': 0, \\'id\\': 1415083, \\'job\\': \\'Greensman\\', \\'name\\': \\'Scott C. Bivona\\', \\'profile_path\\': None}, {\\'credit_id\\': \\'59ac072c925141076502d260\\', \\'department\\': \\'Art\\', \\'gender\\': 0, \\'id\\': 1881587, \\'job\\': \\'Title Designer\\', \\'name\\': \\'Eunha Choi\\', \\'profile_path\\': None}, {\\'credit_id\\': \\'59ac077c925141077e02cb62\\', \\'department\\': \\'Art\\', \\'gender\\': 0, \\'id\\': 1585302, \\'job\\': \\'Construction Coordinator\\', \\'name\\': \\'Daniel Coe\\', \\'profile_path\\': None}, {\\'credit_id\\': \\'59ac07e0925141078a02d842\\', \\'department\\': \\'Art\\', \\'gender\\': 0, \\'id\\': 1495523, \\'job\\': \\'Set Designer\\', \\'name\\': \\'Spencer Davison\\', \\'profile_path\\': None}, {\\'credit_id\\': \\'59ac0862925141072f02cf6f\\', \\'department\\': \\'Art\\', \\'gender\\': 0, \\'id\\': 1881589, \\'job\\': \\'Painter\\', \\'name\\': \\'Sonia L. Garcia\\', \\'profile_path\\': None}, {\\'credit_id\\': \\'59ac08e0c3a3682bf0028e51\\', \\'department\\': \\'Art\\', \\'gender\\': 0, \\'id\\': 1424896, \\'job\\': \\'Art Department Coordinator\\', \\'name\\': \\'Caleb Guillotte\\', \\'profile_path\\': None}, {\\'credit_id\\': \\'59ac0920c3a3682c2202af36\\', \\'department\\': \\'Art\\', \\'gender\\': 0, \\'id\\': 1393375, \\'job\\': \\'Leadman\\', \\'name\\': \"Pat A. O\\'Connor\", \\'profile_path\\': None}, {\\'credit_id\\': \\'59ac095592514107af02cc39\\', \\'department\\': \\'Art\\', \\'gender\\': 0, \\'id\\': 1881592, \\'job\\': \\'Set Designer\\', \\'name\\': \\'Brendan Turrill\\', \\'profile_path\\': None}, {\\'credit_id\\': \\'59ac0989925141072302bdfa\\', \\'department\\': \\'Art\\', \\'gender\\': 2, \\'id\\': 76497, \\'job\\': \\'Property Master\\', \\'name\\': \\'Brook Yeaton\\', \\'profile_path\\': None}, {\\'credit_id\\': \\'59ac0a2cc3a3682c9c02add1\\', \\'department\\': \\'Sound\\', \\'gender\\': 0, \\'id\\': 1881596, \\'job\\': \\'Boom Operator\\', \\'name\\': \\'Matthew Armstrong\\', \\'profile_path\\': None}, {\\'credit_id\\': \\'59ac0aa8925141072f02d282\\', \\'department\\': \\'Visual Effects\\', \\'gender\\': 2, \\'id\\': 1558086, \\'job\\': \\'Special Effects Supervisor\\', \\'name\\': \\'Matt Kutcher\\', \\'profile_path\\': None}, {\\'credit_id\\': \\'59ac0b2ac3a3682c2202b192\\', \\'department\\': \\'Crew\\', \\'gender\\': 2, \\'id\\': 1558087, \\'job\\': \\'Special Effects Coordinator\\', \\'name\\': \\'Eric Roberts\\', \\'profile_path\\': None}, {\\'credit_id\\': \\'59ac0b7ac3a3682c2202b1fb\\', \\'department\\': \\'Visual Effects\\', \\'gender\\': 0, \\'id\\': 1392098, \\'job\\': \\'Visual Effects Supervisor\\', \\'name\\': \\'Rocco Passionino\\', \\'profile_path\\': None}, {\\'credit_id\\': \\'59ac0bbe925141077e02d0c4\\', \\'department\\': \\'Visual Effects\\', \\'gender\\': 0, \\'id\\': 1558716, \\'job\\': \\'Visual Effects Coordinator\\', \\'name\\': \\'Joseph Payo\\', \\'profile_path\\': None}, {\\'credit_id\\': \\'59ac0bf2c3a3682cc802cefa\\', \\'department\\': \\'Visual Effects\\', \\'gender\\': 0, \\'id\\': 1408784, \\'job\\': \\'Visual Effects Producer\\', \\'name\\': \\'Chris Roff\\', \\'profile_path\\': None}, {\\'credit_id\\': \\'59ac0c51c3a3682c48029d99\\', \\'department\\': \\'Lighting\\', \\'gender\\': 0, \\'id\\': 1881600, \\'job\\': \\'Best Boy Electric\\', \\'name\\': \\'Ulyan Atamanyuk\\', \\'profile_path\\': None}, {\\'credit_id\\': \\'59ac0cbac3a3682c0a02cff6\\', \\'department\\': \\'Camera\\', \\'gender\\': 0, \\'id\\': 1881602, \\'job\\': \\'Key Grip\\', \\'name\\': \\'Chris Ekstrom\\', \\'profile_path\\': None}, {\\'credit_id\\': \\'59ac0d54925141072f02d5e6\\', \\'department\\': \\'Lighting\\', \\'gender\\': 0, \\'id\\': 1484984, \\'job\\': \\'Best Boy Electric\\', \\'name\\': \\'Brad Garris\\', \\'profile_path\\': None}, {\\'credit_id\\': \\'59ac0db0925141078a02df86\\', \\'department\\': \\'Camera\\', \\'gender\\': 0, \\'id\\': 1881603, \\'job\\': \\'Dolly Grip\\', \\'name\\': \\'Kendell Joseph\\', \\'profile_path\\': None}, {\\'credit_id\\': \\'59ac0e5a925141077e02d39f\\', \\'department\\': \\'Camera\\', \\'gender\\': 0, \\'id\\': 1549179, \\'job\\': \\'Dolly Grip\\', \\'name\\': \\'Spencer Wilcox\\', \\'profile_path\\': None}, {\\'credit_id\\': \\'59ac0e9f925141079d02bee6\\', \\'department\\': \\'Costume & Make-Up\\', \\'gender\\': 0, \\'id\\': 1552626, \\'job\\': \\'Key Costumer\\', \\'name\\': \\'Sarah P. Koeppe\\', \\'profile_path\\': None}, {\\'credit_id\\': \\'59ac0ec1c3a3682bf0029524\\', \\'department\\': \\'Costume & Make-Up\\', \\'gender\\': 0, \\'id\\': 1881605, \\'job\\': \\'Seamstress\\', \\'name\\': \\'Catherine Rodi\\', \\'profile_path\\': None}, {\\'credit_id\\': \\'59ac0eef925141070702c7ff\\', \\'department\\': \\'Costume & Make-Up\\', \\'gender\\': 0, \\'id\\': 1463801, \\'job\\': \\'Seamstress\\', \\'name\\': \\'Giselle Spence\\', \\'profile_path\\': None}, {\\'credit_id\\': \\'59ac0f5dc3a3682c4802a0f5\\', \\'department\\': \\'Production\\', \\'gender\\': 0, \\'id\\': 1400837, \\'job\\': \\'Location Manager\\', \\'name\\': \\'John A. Johnston\\', \\'profile_path\\': None}, {\\'credit_id\\': \\'59ac0ff2c3a3682c4802a196\\', \\'department\\': \\'Crew\\', \\'gender\\': 0, \\'id\\': 1844322, \\'job\\': \\'Production Controller\\', \\'name\\': \\'Gail Marks\\', \\'profile_path\\': None}]'"
            ]
          },
          "metadata": {
            "tags": []
          },
          "execution_count": 9
        }
      ]
    },
    {
      "cell_type": "code",
      "metadata": {
        "colab": {
          "base_uri": "https://localhost:8080/"
        },
        "id": "QMxvLEPzOCtx",
        "outputId": "183cc932-4b84-4315-97d2-f29ed6a13b10"
      },
      "source": [
        "type(imdb_df.loc[0,'crew'])"
      ],
      "execution_count": null,
      "outputs": [
        {
          "output_type": "execute_result",
          "data": {
            "text/plain": [
              "str"
            ]
          },
          "metadata": {
            "tags": []
          },
          "execution_count": 10
        }
      ]
    },
    {
      "cell_type": "code",
      "metadata": {
        "id": "5WyDIh0TUON9"
      },
      "source": [
        "eval(imdb_df.loc[0,'crew'])"
      ],
      "execution_count": null,
      "outputs": []
    },
    {
      "cell_type": "code",
      "metadata": {
        "id": "QpSWPYFOVzqQ"
      },
      "source": [
        "crew_list=eval(imdb_df.loc[0,'crew'])"
      ],
      "execution_count": null,
      "outputs": []
    },
    {
      "cell_type": "code",
      "metadata": {
        "colab": {
          "base_uri": "https://localhost:8080/"
        },
        "id": "VHUgRb6uVj7C",
        "outputId": "818ffb1b-b6c6-4854-f660-061115f574c6"
      },
      "source": [
        "len(crew_list)"
      ],
      "execution_count": null,
      "outputs": [
        {
          "output_type": "execute_result",
          "data": {
            "text/plain": [
              "72"
            ]
          },
          "metadata": {
            "tags": []
          },
          "execution_count": 13
        }
      ]
    },
    {
      "cell_type": "code",
      "metadata": {
        "colab": {
          "base_uri": "https://localhost:8080/",
          "height": 35
        },
        "id": "uR4JCuriV5xT",
        "outputId": "0b78fdc6-aa3b-48b0-a3f0-09135d5bd07f"
      },
      "source": [
        "imdb_df.loc[0,'genres']"
      ],
      "execution_count": null,
      "outputs": [
        {
          "output_type": "execute_result",
          "data": {
            "application/vnd.google.colaboratory.intrinsic+json": {
              "type": "string"
            },
            "text/plain": [
              "\"[{'id': 35, 'name': 'Comedy'}]\""
            ]
          },
          "metadata": {
            "tags": []
          },
          "execution_count": 18
        }
      ]
    },
    {
      "cell_type": "code",
      "metadata": {
        "id": "YJNEyVkCWLEB",
        "colab": {
          "base_uri": "https://localhost:8080/"
        },
        "outputId": "424beaba-afe1-4cf8-b5a6-ae3be07a3231"
      },
      "source": [
        "import ast\n",
        "ast.literal_eval(imdb_df.loc[0,'cast'])"
      ],
      "execution_count": null,
      "outputs": [
        {
          "output_type": "execute_result",
          "data": {
            "text/plain": [
              "[{'cast_id': 4,\n",
              "  'character': 'Lou',\n",
              "  'credit_id': '52fe4ee7c3a36847f82afae7',\n",
              "  'gender': 2,\n",
              "  'id': 52997,\n",
              "  'name': 'Rob Corddry',\n",
              "  'order': 0,\n",
              "  'profile_path': '/k2zJL0V1nEZuFT08xUdOd3ucfXz.jpg'},\n",
              " {'cast_id': 5,\n",
              "  'character': 'Nick',\n",
              "  'credit_id': '52fe4ee7c3a36847f82afaeb',\n",
              "  'gender': 2,\n",
              "  'id': 64342,\n",
              "  'name': 'Craig Robinson',\n",
              "  'order': 1,\n",
              "  'profile_path': '/tVaRMkJXOEVhYxtnnFuhqW0Rjzz.jpg'},\n",
              " {'cast_id': 6,\n",
              "  'character': 'Jacob',\n",
              "  'credit_id': '52fe4ee7c3a36847f82afaef',\n",
              "  'gender': 2,\n",
              "  'id': 54729,\n",
              "  'name': 'Clark Duke',\n",
              "  'order': 2,\n",
              "  'profile_path': '/oNzK0umwm5Wn0wyEbOy6TVJCSBn.jpg'},\n",
              " {'cast_id': 7,\n",
              "  'character': 'Adam Jr.',\n",
              "  'credit_id': '52fe4ee7c3a36847f82afaf3',\n",
              "  'gender': 2,\n",
              "  'id': 36801,\n",
              "  'name': 'Adam Scott',\n",
              "  'order': 3,\n",
              "  'profile_path': '/5gb65xz8bzd42yjMAl4zwo4cvKw.jpg'},\n",
              " {'cast_id': 8,\n",
              "  'character': 'Hot Tub Repairman',\n",
              "  'credit_id': '52fe4ee7c3a36847f82afaf7',\n",
              "  'gender': 2,\n",
              "  'id': 54812,\n",
              "  'name': 'Chevy Chase',\n",
              "  'order': 4,\n",
              "  'profile_path': '/svjpyYtPwtjvRxX9IZnOmOkhDOt.jpg'},\n",
              " {'cast_id': 9,\n",
              "  'character': 'Jill',\n",
              "  'credit_id': '52fe4ee7c3a36847f82afafb',\n",
              "  'gender': 1,\n",
              "  'id': 94098,\n",
              "  'name': 'Gillian Jacobs',\n",
              "  'order': 5,\n",
              "  'profile_path': '/rBnhe5vhNPnhRUdtYahBWx90fJM.jpg'},\n",
              " {'cast_id': 10,\n",
              "  'character': 'Sophie',\n",
              "  'credit_id': '52fe4ee7c3a36847f82afaff',\n",
              "  'gender': 1,\n",
              "  'id': 1159009,\n",
              "  'name': 'Bianca Haase',\n",
              "  'order': 6,\n",
              "  'profile_path': '/4x3nbtD8q8phAJPmoGWXPvz0iM.jpg'},\n",
              " {'cast_id': 11,\n",
              "  'character': 'Kelly',\n",
              "  'credit_id': '5524ec51c3a3687df3000dbb',\n",
              "  'gender': 1,\n",
              "  'id': 86624,\n",
              "  'name': 'Collette Wolfe',\n",
              "  'order': 7,\n",
              "  'profile_path': '/aSD4h5379b2eEw3bLou9ByLimmq.jpg'},\n",
              " {'cast_id': 13,\n",
              "  'character': 'Brad',\n",
              "  'credit_id': '5524ec8ec3a3687ded000d72',\n",
              "  'gender': 2,\n",
              "  'id': 466505,\n",
              "  'name': 'Kumail Nanjiani',\n",
              "  'order': 9,\n",
              "  'profile_path': '/x4nAztHY72SVciRfxEsbhIVTsIu.jpg'},\n",
              " {'cast_id': 14,\n",
              "  'character': 'Courtney',\n",
              "  'credit_id': '5524ec9bc3a3687df8000d13',\n",
              "  'gender': 1,\n",
              "  'id': 70776,\n",
              "  'name': 'Kellee Stewart',\n",
              "  'order': 10,\n",
              "  'profile_path': '/w3xmsEPmJc1Cf0dQ4aIn8YmlHbk.jpg'},\n",
              " {'cast_id': 15,\n",
              "  'character': 'Terry',\n",
              "  'credit_id': '5524eca892514171cb008237',\n",
              "  'gender': 2,\n",
              "  'id': 347335,\n",
              "  'name': 'Josh Heald',\n",
              "  'order': 11,\n",
              "  'profile_path': '/pwXJIenrDMrG7t3zNfLvr8w1RGU.jpg'},\n",
              " {'cast_id': 16,\n",
              "  'character': 'Susan',\n",
              "  'credit_id': '5524ecb7925141720c001116',\n",
              "  'gender': 0,\n",
              "  'id': 1451392,\n",
              "  'name': 'Gretchen Koerner',\n",
              "  'order': 12,\n",
              "  'profile_path': '/muULPexCTJGyJba4yKzxronpD50.jpg'},\n",
              " {'cast_id': 17,\n",
              "  'character': 'Herself',\n",
              "  'credit_id': '5524ecc3c3a3687ded000d74',\n",
              "  'gender': 1,\n",
              "  'id': 98879,\n",
              "  'name': 'Lisa Loeb',\n",
              "  'order': 13,\n",
              "  'profile_path': '/bGqg58ca0bZR38z9HliUMmeNGE.jpg'},\n",
              " {'cast_id': 18,\n",
              "  'character': 'Herself',\n",
              "  'credit_id': '5524ecd3c3a3687e11000ed3',\n",
              "  'gender': 1,\n",
              "  'id': 1394648,\n",
              "  'name': 'Jessica Williams',\n",
              "  'order': 14,\n",
              "  'profile_path': '/A4syKjkcYB92wLEhH0c0hC3BCpz.jpg'},\n",
              " {'cast_id': 19,\n",
              "  'character': 'Himself',\n",
              "  'credit_id': '5524ece6925141718d001009',\n",
              "  'gender': 0,\n",
              "  'id': 1451393,\n",
              "  'name': 'Bruce Buffer',\n",
              "  'order': 15,\n",
              "  'profile_path': None},\n",
              " {'cast_id': 20,\n",
              "  'character': 'Shot Girl',\n",
              "  'credit_id': '5524ecf5c3a3687e08000dc2',\n",
              "  'gender': 0,\n",
              "  'id': 1451394,\n",
              "  'name': 'Mariana Paola Vicente',\n",
              "  'order': 16,\n",
              "  'profile_path': '/ckPllza8624UHWGHCbLShkLxCD1.jpg'},\n",
              " {'cast_id': 33,\n",
              "  'character': 'Choozy Doozy Host',\n",
              "  'credit_id': '555844da9251412afe0013a9',\n",
              "  'gender': 2,\n",
              "  'id': 2224,\n",
              "  'name': 'Christian Slater',\n",
              "  'order': 17,\n",
              "  'profile_path': '/3ElLWjnvchMS6Q4cIQOK8QNAoMG.jpg'},\n",
              " {'cast_id': 35,\n",
              "  'character': 'Gary Winkle',\n",
              "  'credit_id': '55872027c3a3683853005074',\n",
              "  'gender': 0,\n",
              "  'id': 185805,\n",
              "  'name': 'Jason Jones',\n",
              "  'order': 18,\n",
              "  'profile_path': '/aIoCw6vo8AGMdsQRAI5g2t0yJT3.jpg'},\n",
              " {'cast_id': 36,\n",
              "  'character': 'Bridesmaid',\n",
              "  'credit_id': '55efe971c3a368090c00cd1b',\n",
              "  'gender': 0,\n",
              "  'id': 1507448,\n",
              "  'name': 'Olivia Jordan',\n",
              "  'order': 19,\n",
              "  'profile_path': '/szMukAEiIDeasel0lvyaeyKuych.jpg'},\n",
              " {'cast_id': 37,\n",
              "  'character': 'Christine',\n",
              "  'credit_id': '55efe980c3a36871bf008176',\n",
              "  'gender': 1,\n",
              "  'id': 1334091,\n",
              "  'name': 'Christine Bently',\n",
              "  'order': 20,\n",
              "  'profile_path': '/oUZltnGa55OXE52hfyPTfCshuNy.jpg'},\n",
              " {'cast_id': 38,\n",
              "  'character': 'Excited Girl',\n",
              "  'credit_id': '55efe98e9251413e3201d316',\n",
              "  'gender': 0,\n",
              "  'id': 557803,\n",
              "  'name': 'Stacey Asaro',\n",
              "  'order': 21,\n",
              "  'profile_path': '/qTPdlr1dXf3kNdyHuDsgtGC0HCC.jpg'},\n",
              " {'cast_id': 64,\n",
              "  'character': 'Adam (uncredited)',\n",
              "  'credit_id': '58f2135ac3a3682e95008b91',\n",
              "  'gender': 2,\n",
              "  'id': 3036,\n",
              "  'name': 'John Cusack',\n",
              "  'order': 22,\n",
              "  'profile_path': '/uKydQYuZ9TnCzvbQLtj6j98vWAT.jpg'},\n",
              " {'cast_id': 65,\n",
              "  'character': 'J-Bird',\n",
              "  'credit_id': '59ac0240c3a3682cc802c399',\n",
              "  'gender': 2,\n",
              "  'id': 59256,\n",
              "  'name': 'Adam Herschman',\n",
              "  'order': 23,\n",
              "  'profile_path': '/wZMwiuX1DslF6hDS50z9OTN6z1X.jpg'},\n",
              " {'cast_id': 66,\n",
              "  'character': 'Bridesmaid',\n",
              "  'credit_id': '59ac02cd925141079d02b1b4',\n",
              "  'gender': 1,\n",
              "  'id': 129714,\n",
              "  'name': 'Kisha Sierra',\n",
              "  'order': 24,\n",
              "  'profile_path': None}]"
            ]
          },
          "metadata": {
            "tags": []
          },
          "execution_count": 5
        }
      ]
    },
    {
      "cell_type": "markdown",
      "metadata": {
        "id": "zopfoLOjXy9T"
      },
      "source": [
        "##Converting string values to their proper lists and will apply this transformation to 3 columns with are geners,cast and crew\n"
      ]
    },
    {
      "cell_type": "code",
      "metadata": {
        "colab": {
          "base_uri": "https://localhost:8080/"
        },
        "id": "vw2oGsafccEK",
        "outputId": "fcea6596-7b8d-4437-e69a-3ea651510d59"
      },
      "source": [
        "imdb_df.columns"
      ],
      "execution_count": null,
      "outputs": [
        {
          "output_type": "execute_result",
          "data": {
            "text/plain": [
              "Index(['id', 'belongs_to_collection', 'budget', 'genres', 'homepage',\n",
              "       'imdb_id', 'original_language', 'original_title', 'overview',\n",
              "       'popularity', 'poster_path', 'production_companies',\n",
              "       'production_countries', 'release_date', 'runtime', 'spoken_languages',\n",
              "       'status', 'tagline', 'title', 'Keywords', 'cast', 'crew', 'revenue'],\n",
              "      dtype='object')"
            ]
          },
          "metadata": {
            "tags": []
          },
          "execution_count": 20
        }
      ]
    },
    {
      "cell_type": "code",
      "metadata": {
        "id": "YGyVO4MdcjYm"
      },
      "source": [
        "column_to_keep=['budget','genres','imdb_id','original_language','original_title','revenue','cast', 'crew']\n"
      ],
      "execution_count": null,
      "outputs": []
    },
    {
      "cell_type": "code",
      "metadata": {
        "id": "S2ZbJ2dAdjC9"
      },
      "source": [
        "imdb_df=imdb_df[column_to_keep]"
      ],
      "execution_count": null,
      "outputs": []
    },
    {
      "cell_type": "code",
      "metadata": {
        "colab": {
          "base_uri": "https://localhost:8080/"
        },
        "id": "D743WaWXdp4F",
        "outputId": "3e066eea-e353-45fb-ce65-580a2d829c3b"
      },
      "source": [
        "imdb_df.info()"
      ],
      "execution_count": null,
      "outputs": [
        {
          "output_type": "stream",
          "text": [
            "<class 'pandas.core.frame.DataFrame'>\n",
            "RangeIndex: 3000 entries, 0 to 2999\n",
            "Data columns (total 8 columns):\n",
            " #   Column             Non-Null Count  Dtype \n",
            "---  ------             --------------  ----- \n",
            " 0   budget             3000 non-null   int64 \n",
            " 1   genres             2993 non-null   object\n",
            " 2   imdb_id            3000 non-null   object\n",
            " 3   original_language  3000 non-null   object\n",
            " 4   original_title     3000 non-null   object\n",
            " 5   revenue            3000 non-null   int64 \n",
            " 6   cast               2987 non-null   object\n",
            " 7   crew               2984 non-null   object\n",
            "dtypes: int64(2), object(6)\n",
            "memory usage: 187.6+ KB\n"
          ],
          "name": "stdout"
        }
      ]
    },
    {
      "cell_type": "code",
      "metadata": {
        "id": "HriuuwHud701"
      },
      "source": [
        "# Drop the null observations:\n",
        "imdb_non_null_df = imdb_df.dropna()"
      ],
      "execution_count": null,
      "outputs": []
    },
    {
      "cell_type": "code",
      "metadata": {
        "id": "a8N3z0oHe15l"
      },
      "source": [
        ""
      ],
      "execution_count": null,
      "outputs": []
    },
    {
      "cell_type": "code",
      "metadata": {
        "colab": {
          "base_uri": "https://localhost:8080/"
        },
        "id": "rZgkkG4mehLt",
        "outputId": "07813a3e-ff22-4782-836d-791116135c6b"
      },
      "source": [
        "imdb_non_null_df.info()"
      ],
      "execution_count": null,
      "outputs": [
        {
          "output_type": "stream",
          "text": [
            "<class 'pandas.core.frame.DataFrame'>\n",
            "Int64Index: 2978 entries, 0 to 2999\n",
            "Data columns (total 8 columns):\n",
            " #   Column             Non-Null Count  Dtype \n",
            "---  ------             --------------  ----- \n",
            " 0   budget             2978 non-null   int64 \n",
            " 1   genres             2978 non-null   object\n",
            " 2   imdb_id            2978 non-null   object\n",
            " 3   original_language  2978 non-null   object\n",
            " 4   original_title     2978 non-null   object\n",
            " 5   revenue            2978 non-null   int64 \n",
            " 6   cast               2978 non-null   object\n",
            " 7   crew               2978 non-null   object\n",
            "dtypes: int64(2), object(6)\n",
            "memory usage: 209.4+ KB\n"
          ],
          "name": "stdout"
        }
      ]
    },
    {
      "cell_type": "code",
      "metadata": {
        "id": "3iBCqx2QW7QD"
      },
      "source": [
        "def convert_string_to_list(str):\n",
        "  return eval(str)\n"
      ],
      "execution_count": null,
      "outputs": []
    },
    {
      "cell_type": "code",
      "metadata": {
        "id": "QWPV2XCda7NW"
      },
      "source": [
        "#Apply the above function to the columns: geners\n",
        "imdb_df.loc[~imdb_df['genres'].isna(),'genres'] = imdb_df.loc[~imdb_df['genres'].isna(),'genres'].apply(convert_string_to_list)"
      ],
      "execution_count": null,
      "outputs": []
    },
    {
      "cell_type": "code",
      "metadata": {
        "colab": {
          "base_uri": "https://localhost:8080/"
        },
        "id": "aXfnovc5JtMB",
        "outputId": "daab3dc5-5a49-4266-ef0b-431ec2ffc16e"
      },
      "source": [
        "imdb_df.loc[0,'genres']"
      ],
      "execution_count": null,
      "outputs": [
        {
          "output_type": "execute_result",
          "data": {
            "text/plain": [
              "[{'id': 35, 'name': 'Comedy'}]"
            ]
          },
          "metadata": {
            "tags": []
          },
          "execution_count": 28
        }
      ]
    },
    {
      "cell_type": "code",
      "metadata": {
        "id": "nfABxxoVInIo"
      },
      "source": [
        "#Apply the above function to the columns:cast\n",
        "imdb_df.loc[~imdb_df['cast'].isna(),'cast'] = imdb_df.loc[~imdb_df['cast'].isna(),'cast'].apply(convert_string_to_list)"
      ],
      "execution_count": null,
      "outputs": []
    },
    {
      "cell_type": "code",
      "metadata": {
        "id": "lAcQvQqKKJuK",
        "colab": {
          "base_uri": "https://localhost:8080/"
        },
        "outputId": "ab468433-0315-4c66-fafd-7af710d12c55"
      },
      "source": [
        "imdb_df.loc[0,'cast']"
      ],
      "execution_count": null,
      "outputs": [
        {
          "output_type": "execute_result",
          "data": {
            "text/plain": [
              "[{'cast_id': 4,\n",
              "  'character': 'Lou',\n",
              "  'credit_id': '52fe4ee7c3a36847f82afae7',\n",
              "  'gender': 2,\n",
              "  'id': 52997,\n",
              "  'name': 'Rob Corddry',\n",
              "  'order': 0,\n",
              "  'profile_path': '/k2zJL0V1nEZuFT08xUdOd3ucfXz.jpg'},\n",
              " {'cast_id': 5,\n",
              "  'character': 'Nick',\n",
              "  'credit_id': '52fe4ee7c3a36847f82afaeb',\n",
              "  'gender': 2,\n",
              "  'id': 64342,\n",
              "  'name': 'Craig Robinson',\n",
              "  'order': 1,\n",
              "  'profile_path': '/tVaRMkJXOEVhYxtnnFuhqW0Rjzz.jpg'},\n",
              " {'cast_id': 6,\n",
              "  'character': 'Jacob',\n",
              "  'credit_id': '52fe4ee7c3a36847f82afaef',\n",
              "  'gender': 2,\n",
              "  'id': 54729,\n",
              "  'name': 'Clark Duke',\n",
              "  'order': 2,\n",
              "  'profile_path': '/oNzK0umwm5Wn0wyEbOy6TVJCSBn.jpg'},\n",
              " {'cast_id': 7,\n",
              "  'character': 'Adam Jr.',\n",
              "  'credit_id': '52fe4ee7c3a36847f82afaf3',\n",
              "  'gender': 2,\n",
              "  'id': 36801,\n",
              "  'name': 'Adam Scott',\n",
              "  'order': 3,\n",
              "  'profile_path': '/5gb65xz8bzd42yjMAl4zwo4cvKw.jpg'},\n",
              " {'cast_id': 8,\n",
              "  'character': 'Hot Tub Repairman',\n",
              "  'credit_id': '52fe4ee7c3a36847f82afaf7',\n",
              "  'gender': 2,\n",
              "  'id': 54812,\n",
              "  'name': 'Chevy Chase',\n",
              "  'order': 4,\n",
              "  'profile_path': '/svjpyYtPwtjvRxX9IZnOmOkhDOt.jpg'},\n",
              " {'cast_id': 9,\n",
              "  'character': 'Jill',\n",
              "  'credit_id': '52fe4ee7c3a36847f82afafb',\n",
              "  'gender': 1,\n",
              "  'id': 94098,\n",
              "  'name': 'Gillian Jacobs',\n",
              "  'order': 5,\n",
              "  'profile_path': '/rBnhe5vhNPnhRUdtYahBWx90fJM.jpg'},\n",
              " {'cast_id': 10,\n",
              "  'character': 'Sophie',\n",
              "  'credit_id': '52fe4ee7c3a36847f82afaff',\n",
              "  'gender': 1,\n",
              "  'id': 1159009,\n",
              "  'name': 'Bianca Haase',\n",
              "  'order': 6,\n",
              "  'profile_path': '/4x3nbtD8q8phAJPmoGWXPvz0iM.jpg'},\n",
              " {'cast_id': 11,\n",
              "  'character': 'Kelly',\n",
              "  'credit_id': '5524ec51c3a3687df3000dbb',\n",
              "  'gender': 1,\n",
              "  'id': 86624,\n",
              "  'name': 'Collette Wolfe',\n",
              "  'order': 7,\n",
              "  'profile_path': '/aSD4h5379b2eEw3bLou9ByLimmq.jpg'},\n",
              " {'cast_id': 13,\n",
              "  'character': 'Brad',\n",
              "  'credit_id': '5524ec8ec3a3687ded000d72',\n",
              "  'gender': 2,\n",
              "  'id': 466505,\n",
              "  'name': 'Kumail Nanjiani',\n",
              "  'order': 9,\n",
              "  'profile_path': '/x4nAztHY72SVciRfxEsbhIVTsIu.jpg'},\n",
              " {'cast_id': 14,\n",
              "  'character': 'Courtney',\n",
              "  'credit_id': '5524ec9bc3a3687df8000d13',\n",
              "  'gender': 1,\n",
              "  'id': 70776,\n",
              "  'name': 'Kellee Stewart',\n",
              "  'order': 10,\n",
              "  'profile_path': '/w3xmsEPmJc1Cf0dQ4aIn8YmlHbk.jpg'},\n",
              " {'cast_id': 15,\n",
              "  'character': 'Terry',\n",
              "  'credit_id': '5524eca892514171cb008237',\n",
              "  'gender': 2,\n",
              "  'id': 347335,\n",
              "  'name': 'Josh Heald',\n",
              "  'order': 11,\n",
              "  'profile_path': '/pwXJIenrDMrG7t3zNfLvr8w1RGU.jpg'},\n",
              " {'cast_id': 16,\n",
              "  'character': 'Susan',\n",
              "  'credit_id': '5524ecb7925141720c001116',\n",
              "  'gender': 0,\n",
              "  'id': 1451392,\n",
              "  'name': 'Gretchen Koerner',\n",
              "  'order': 12,\n",
              "  'profile_path': '/muULPexCTJGyJba4yKzxronpD50.jpg'},\n",
              " {'cast_id': 17,\n",
              "  'character': 'Herself',\n",
              "  'credit_id': '5524ecc3c3a3687ded000d74',\n",
              "  'gender': 1,\n",
              "  'id': 98879,\n",
              "  'name': 'Lisa Loeb',\n",
              "  'order': 13,\n",
              "  'profile_path': '/bGqg58ca0bZR38z9HliUMmeNGE.jpg'},\n",
              " {'cast_id': 18,\n",
              "  'character': 'Herself',\n",
              "  'credit_id': '5524ecd3c3a3687e11000ed3',\n",
              "  'gender': 1,\n",
              "  'id': 1394648,\n",
              "  'name': 'Jessica Williams',\n",
              "  'order': 14,\n",
              "  'profile_path': '/A4syKjkcYB92wLEhH0c0hC3BCpz.jpg'},\n",
              " {'cast_id': 19,\n",
              "  'character': 'Himself',\n",
              "  'credit_id': '5524ece6925141718d001009',\n",
              "  'gender': 0,\n",
              "  'id': 1451393,\n",
              "  'name': 'Bruce Buffer',\n",
              "  'order': 15,\n",
              "  'profile_path': None},\n",
              " {'cast_id': 20,\n",
              "  'character': 'Shot Girl',\n",
              "  'credit_id': '5524ecf5c3a3687e08000dc2',\n",
              "  'gender': 0,\n",
              "  'id': 1451394,\n",
              "  'name': 'Mariana Paola Vicente',\n",
              "  'order': 16,\n",
              "  'profile_path': '/ckPllza8624UHWGHCbLShkLxCD1.jpg'},\n",
              " {'cast_id': 33,\n",
              "  'character': 'Choozy Doozy Host',\n",
              "  'credit_id': '555844da9251412afe0013a9',\n",
              "  'gender': 2,\n",
              "  'id': 2224,\n",
              "  'name': 'Christian Slater',\n",
              "  'order': 17,\n",
              "  'profile_path': '/3ElLWjnvchMS6Q4cIQOK8QNAoMG.jpg'},\n",
              " {'cast_id': 35,\n",
              "  'character': 'Gary Winkle',\n",
              "  'credit_id': '55872027c3a3683853005074',\n",
              "  'gender': 0,\n",
              "  'id': 185805,\n",
              "  'name': 'Jason Jones',\n",
              "  'order': 18,\n",
              "  'profile_path': '/aIoCw6vo8AGMdsQRAI5g2t0yJT3.jpg'},\n",
              " {'cast_id': 36,\n",
              "  'character': 'Bridesmaid',\n",
              "  'credit_id': '55efe971c3a368090c00cd1b',\n",
              "  'gender': 0,\n",
              "  'id': 1507448,\n",
              "  'name': 'Olivia Jordan',\n",
              "  'order': 19,\n",
              "  'profile_path': '/szMukAEiIDeasel0lvyaeyKuych.jpg'},\n",
              " {'cast_id': 37,\n",
              "  'character': 'Christine',\n",
              "  'credit_id': '55efe980c3a36871bf008176',\n",
              "  'gender': 1,\n",
              "  'id': 1334091,\n",
              "  'name': 'Christine Bently',\n",
              "  'order': 20,\n",
              "  'profile_path': '/oUZltnGa55OXE52hfyPTfCshuNy.jpg'},\n",
              " {'cast_id': 38,\n",
              "  'character': 'Excited Girl',\n",
              "  'credit_id': '55efe98e9251413e3201d316',\n",
              "  'gender': 0,\n",
              "  'id': 557803,\n",
              "  'name': 'Stacey Asaro',\n",
              "  'order': 21,\n",
              "  'profile_path': '/qTPdlr1dXf3kNdyHuDsgtGC0HCC.jpg'},\n",
              " {'cast_id': 64,\n",
              "  'character': 'Adam (uncredited)',\n",
              "  'credit_id': '58f2135ac3a3682e95008b91',\n",
              "  'gender': 2,\n",
              "  'id': 3036,\n",
              "  'name': 'John Cusack',\n",
              "  'order': 22,\n",
              "  'profile_path': '/uKydQYuZ9TnCzvbQLtj6j98vWAT.jpg'},\n",
              " {'cast_id': 65,\n",
              "  'character': 'J-Bird',\n",
              "  'credit_id': '59ac0240c3a3682cc802c399',\n",
              "  'gender': 2,\n",
              "  'id': 59256,\n",
              "  'name': 'Adam Herschman',\n",
              "  'order': 23,\n",
              "  'profile_path': '/wZMwiuX1DslF6hDS50z9OTN6z1X.jpg'},\n",
              " {'cast_id': 66,\n",
              "  'character': 'Bridesmaid',\n",
              "  'credit_id': '59ac02cd925141079d02b1b4',\n",
              "  'gender': 1,\n",
              "  'id': 129714,\n",
              "  'name': 'Kisha Sierra',\n",
              "  'order': 24,\n",
              "  'profile_path': None}]"
            ]
          },
          "metadata": {
            "tags": []
          },
          "execution_count": 30
        }
      ]
    },
    {
      "cell_type": "code",
      "metadata": {
        "id": "HjtBT4qgJWaw"
      },
      "source": [
        "#Apply the above function to the columns: crew\n",
        "imdb_df.loc[~imdb_df['crew'].isna(),'crew'] = imdb_df.loc[~imdb_df['crew'].isna(),'crew'].apply(convert_string_to_list)"
      ],
      "execution_count": null,
      "outputs": []
    },
    {
      "cell_type": "code",
      "metadata": {
        "id": "QkdClvUhKRji"
      },
      "source": [
        "imdb_df.loc[0,'crew']"
      ],
      "execution_count": null,
      "outputs": []
    },
    {
      "cell_type": "code",
      "metadata": {
        "id": "GvwGxZgkKjOa"
      },
      "source": [
        "#creating a copy of the imdb_df\n",
        "imdb_df_new=imdb_df.copy()"
      ],
      "execution_count": null,
      "outputs": []
    },
    {
      "cell_type": "code",
      "metadata": {
        "id": "-N14vmb0LUwz",
        "colab": {
          "base_uri": "https://localhost:8080/",
          "height": 830
        },
        "outputId": "5513ba47-aced-4161-e809-9176545c2dbc"
      },
      "source": [
        "imdb_df_new[imdb_df['genres'].isna()]"
      ],
      "execution_count": null,
      "outputs": [
        {
          "output_type": "execute_result",
          "data": {
            "text/html": [
              "<div>\n",
              "<style scoped>\n",
              "    .dataframe tbody tr th:only-of-type {\n",
              "        vertical-align: middle;\n",
              "    }\n",
              "\n",
              "    .dataframe tbody tr th {\n",
              "        vertical-align: top;\n",
              "    }\n",
              "\n",
              "    .dataframe thead th {\n",
              "        text-align: right;\n",
              "    }\n",
              "</style>\n",
              "<table border=\"1\" class=\"dataframe\">\n",
              "  <thead>\n",
              "    <tr style=\"text-align: right;\">\n",
              "      <th></th>\n",
              "      <th>id</th>\n",
              "      <th>belongs_to_collection</th>\n",
              "      <th>budget</th>\n",
              "      <th>genres</th>\n",
              "      <th>homepage</th>\n",
              "      <th>imdb_id</th>\n",
              "      <th>original_language</th>\n",
              "      <th>original_title</th>\n",
              "      <th>overview</th>\n",
              "      <th>popularity</th>\n",
              "      <th>poster_path</th>\n",
              "      <th>production_companies</th>\n",
              "      <th>production_countries</th>\n",
              "      <th>release_date</th>\n",
              "      <th>runtime</th>\n",
              "      <th>spoken_languages</th>\n",
              "      <th>status</th>\n",
              "      <th>tagline</th>\n",
              "      <th>title</th>\n",
              "      <th>Keywords</th>\n",
              "      <th>cast</th>\n",
              "      <th>crew</th>\n",
              "      <th>revenue</th>\n",
              "    </tr>\n",
              "  </thead>\n",
              "  <tbody>\n",
              "    <tr>\n",
              "      <th>470</th>\n",
              "      <td>471</td>\n",
              "      <td>NaN</td>\n",
              "      <td>2000000</td>\n",
              "      <td>NaN</td>\n",
              "      <td>NaN</td>\n",
              "      <td>tt0349159</td>\n",
              "      <td>en</td>\n",
              "      <td>The Book of Mormon Movie, Volume 1: The Journey</td>\n",
              "      <td>The story of Lehi and his wife Sariah and thei...</td>\n",
              "      <td>0.079856</td>\n",
              "      <td>/rJnEmqJDMu4aYfALVCcPrjqIDaK.jpg</td>\n",
              "      <td>NaN</td>\n",
              "      <td>NaN</td>\n",
              "      <td>9/12/03</td>\n",
              "      <td>120.0</td>\n",
              "      <td>NaN</td>\n",
              "      <td>Released</td>\n",
              "      <td>2600 years ago, one family began a remarkable ...</td>\n",
              "      <td>The Book of Mormon Movie, Volume 1: The Journey</td>\n",
              "      <td>NaN</td>\n",
              "      <td>[{'cast_id': 1, 'character': 'Sam', 'credit_id...</td>\n",
              "      <td>NaN</td>\n",
              "      <td>1672730</td>\n",
              "    </tr>\n",
              "    <tr>\n",
              "      <th>1622</th>\n",
              "      <td>1623</td>\n",
              "      <td>NaN</td>\n",
              "      <td>400000</td>\n",
              "      <td>NaN</td>\n",
              "      <td>NaN</td>\n",
              "      <td>tt0261755</td>\n",
              "      <td>en</td>\n",
              "      <td>Jackpot</td>\n",
              "      <td>Sunny Holiday, an aspiring singing star, aband...</td>\n",
              "      <td>0.218588</td>\n",
              "      <td>/knmfYv7FI1EubSIsCsvdvdMWRwt.jpg</td>\n",
              "      <td>NaN</td>\n",
              "      <td>NaN</td>\n",
              "      <td>7/26/01</td>\n",
              "      <td>97.0</td>\n",
              "      <td>NaN</td>\n",
              "      <td>Released</td>\n",
              "      <td>NaN</td>\n",
              "      <td>Jackpot</td>\n",
              "      <td>NaN</td>\n",
              "      <td>[{'cast_id': 4, 'character': '', 'credit_id': ...</td>\n",
              "      <td>[{'credit_id': '52fe4d3c9251416c9110f319', 'de...</td>\n",
              "      <td>43719</td>\n",
              "    </tr>\n",
              "    <tr>\n",
              "      <th>1814</th>\n",
              "      <td>1815</td>\n",
              "      <td>NaN</td>\n",
              "      <td>2700000</td>\n",
              "      <td>NaN</td>\n",
              "      <td>NaN</td>\n",
              "      <td>tt0110289</td>\n",
              "      <td>it</td>\n",
              "      <td>Курочка Ряба</td>\n",
              "      <td>In Soviet days an old peasant woman's hen begi...</td>\n",
              "      <td>0.677253</td>\n",
              "      <td>/pAm8qGWw1DBs7IkVkOJjXhVHDjz.jpg</td>\n",
              "      <td>NaN</td>\n",
              "      <td>[{'iso_3166_1': 'FR', 'name': 'France'}, {'iso...</td>\n",
              "      <td>10/1/94</td>\n",
              "      <td>117.0</td>\n",
              "      <td>[{'iso_639_1': 'ru', 'name': 'Pусский'}]</td>\n",
              "      <td>Released</td>\n",
              "      <td>NaN</td>\n",
              "      <td>Ryaba, My Chicken</td>\n",
              "      <td>NaN</td>\n",
              "      <td>[]</td>\n",
              "      <td>[{'credit_id': '52fe4c139251416c910eeee3', 'de...</td>\n",
              "      <td>4635143</td>\n",
              "    </tr>\n",
              "    <tr>\n",
              "      <th>1819</th>\n",
              "      <td>1820</td>\n",
              "      <td>NaN</td>\n",
              "      <td>0</td>\n",
              "      <td>NaN</td>\n",
              "      <td>NaN</td>\n",
              "      <td>tt0352622</td>\n",
              "      <td>ru</td>\n",
              "      <td>Небо. Самолёт. Девушка.</td>\n",
              "      <td>The tale of a brief, life-altering love affair...</td>\n",
              "      <td>0.518078</td>\n",
              "      <td>/jetrpybEQFsZdUTOGGj6NSODk5f.jpg</td>\n",
              "      <td>NaN</td>\n",
              "      <td>[{'iso_3166_1': 'RU', 'name': 'Russia'}]</td>\n",
              "      <td>9/2/02</td>\n",
              "      <td>91.0</td>\n",
              "      <td>[{'iso_639_1': 'ru', 'name': 'Pусский'}]</td>\n",
              "      <td>Released</td>\n",
              "      <td>NaN</td>\n",
              "      <td>Sky. Plane. Girl.</td>\n",
              "      <td>[{'id': 187056, 'name': 'woman director'}]</td>\n",
              "      <td>[{'cast_id': 2, 'character': '', 'credit_id': ...</td>\n",
              "      <td>[{'credit_id': '52fe4728c3a368484e0b7f53', 'de...</td>\n",
              "      <td>314195</td>\n",
              "    </tr>\n",
              "    <tr>\n",
              "      <th>2423</th>\n",
              "      <td>2424</td>\n",
              "      <td>NaN</td>\n",
              "      <td>500000</td>\n",
              "      <td>NaN</td>\n",
              "      <td>NaN</td>\n",
              "      <td>tt0984177</td>\n",
              "      <td>en</td>\n",
              "      <td>Amarkalam</td>\n",
              "      <td>Vasu is a tough street crook who lives at a mo...</td>\n",
              "      <td>0.493342</td>\n",
              "      <td>/1ZY9hTkwiV0NjJoSM2zIyojQulD.jpg</td>\n",
              "      <td>NaN</td>\n",
              "      <td>[{'iso_3166_1': 'IN', 'name': 'India'}]</td>\n",
              "      <td>8/25/99</td>\n",
              "      <td>157.0</td>\n",
              "      <td>[{'iso_639_1': 'ta', 'name': 'தமிழ்'}]</td>\n",
              "      <td>Released</td>\n",
              "      <td>NaN</td>\n",
              "      <td>Amarkalam</td>\n",
              "      <td>NaN</td>\n",
              "      <td>[{'cast_id': 1, 'character': 'Vaasu', 'credit_...</td>\n",
              "      <td>[{'credit_id': '53b42af80e0a26598c00cea3', 'de...</td>\n",
              "      <td>500000</td>\n",
              "    </tr>\n",
              "    <tr>\n",
              "      <th>2686</th>\n",
              "      <td>2687</td>\n",
              "      <td>NaN</td>\n",
              "      <td>0</td>\n",
              "      <td>NaN</td>\n",
              "      <td>NaN</td>\n",
              "      <td>tt0833448</td>\n",
              "      <td>ru</td>\n",
              "      <td>Лифт</td>\n",
              "      <td>A psychological thriller. One quite ordinary s...</td>\n",
              "      <td>0.158207</td>\n",
              "      <td>/1tekHzyJggMmRxRlshR0x0AVwcO.jpg</td>\n",
              "      <td>NaN</td>\n",
              "      <td>NaN</td>\n",
              "      <td>7/1/06</td>\n",
              "      <td>88.0</td>\n",
              "      <td>NaN</td>\n",
              "      <td>Released</td>\n",
              "      <td>NaN</td>\n",
              "      <td>Lift</td>\n",
              "      <td>NaN</td>\n",
              "      <td>[]</td>\n",
              "      <td>[{'credit_id': '57b8a5d19251411bc6000587', 'de...</td>\n",
              "      <td>123182</td>\n",
              "    </tr>\n",
              "    <tr>\n",
              "      <th>2900</th>\n",
              "      <td>2901</td>\n",
              "      <td>NaN</td>\n",
              "      <td>200000</td>\n",
              "      <td>NaN</td>\n",
              "      <td>http://ritaslastfairytale.ru/</td>\n",
              "      <td>tt1766044</td>\n",
              "      <td>en</td>\n",
              "      <td>Poslednyaya skazka Rity</td>\n",
              "      <td>The film speaks about universal themes of love...</td>\n",
              "      <td>0.560685</td>\n",
              "      <td>/6dS0fDrigZiHUiwuS5yjJECc919.jpg</td>\n",
              "      <td>NaN</td>\n",
              "      <td>[{'iso_3166_1': 'RU', 'name': 'Russia'}]</td>\n",
              "      <td>11/1/12</td>\n",
              "      <td>100.0</td>\n",
              "      <td>[{'iso_639_1': 'ru', 'name': 'Pусский'}]</td>\n",
              "      <td>Released</td>\n",
              "      <td>NaN</td>\n",
              "      <td>Rita's Last Fairy Tale</td>\n",
              "      <td>[{'id': 187056, 'name': 'woman director'}]</td>\n",
              "      <td>[{'cast_id': 3, 'character': '', 'credit_id': ...</td>\n",
              "      <td>[{'credit_id': '52fe4ab89251416c750ebaab', 'de...</td>\n",
              "      <td>486937</td>\n",
              "    </tr>\n",
              "  </tbody>\n",
              "</table>\n",
              "</div>"
            ],
            "text/plain": [
              "        id  ...  revenue\n",
              "470    471  ...  1672730\n",
              "1622  1623  ...    43719\n",
              "1814  1815  ...  4635143\n",
              "1819  1820  ...   314195\n",
              "2423  2424  ...   500000\n",
              "2686  2687  ...   123182\n",
              "2900  2901  ...   486937\n",
              "\n",
              "[7 rows x 23 columns]"
            ]
          },
          "metadata": {
            "tags": []
          },
          "execution_count": 7
        }
      ]
    },
    {
      "cell_type": "markdown",
      "metadata": {
        "id": "oT2d4N9XL2Gt"
      },
      "source": [
        "##1) Which movie made the highest profit? Who were its producer and director? Identify the actors in that film."
      ]
    },
    {
      "cell_type": "code",
      "metadata": {
        "id": "gBPiydZwM9FX"
      },
      "source": [
        "imdb_df_new.describe()"
      ],
      "execution_count": null,
      "outputs": []
    },
    {
      "cell_type": "code",
      "metadata": {
        "id": "hmYIcDMAOLeZ"
      },
      "source": [
        "#Replace extremly low values of budget and revenue with median value:\n",
        "imdb_df_new.loc[imdb_df_new['budget']<1000,'budget']=imdb_df_new.loc[imdb_df_new['budget']>=1000,'budget'].median()\n",
        "imdb_df_new.loc[imdb_df_new['revenue']<1000,'revenue']=imdb_df_new.loc[imdb_df_new['revenue']>=1000,'revenue'].median()"
      ],
      "execution_count": null,
      "outputs": []
    },
    {
      "cell_type": "code",
      "metadata": {
        "id": "oifan-ufTHzr"
      },
      "source": [
        "imdb_df_new.describe()"
      ],
      "execution_count": null,
      "outputs": []
    },
    {
      "cell_type": "markdown",
      "metadata": {
        "id": "qjulecASTYTi"
      },
      "source": [
        "## profit can be calulated as the difference between the revenue and the budget"
      ]
    },
    {
      "cell_type": "code",
      "metadata": {
        "id": "kZHw1bN5LoD8"
      },
      "source": [
        "#Create the Profit column:\n",
        "imdb_df_new['profit']=imdb_df_new['revenue']-imdb_df_new['budget']"
      ],
      "execution_count": null,
      "outputs": []
    },
    {
      "cell_type": "code",
      "metadata": {
        "id": "baNTxU0mMhP0",
        "colab": {
          "base_uri": "https://localhost:8080/",
          "height": 632
        },
        "outputId": "43020a8a-fb07-457b-9f0a-d092a329d2c3"
      },
      "source": [
        "imdb_df_new.head()"
      ],
      "execution_count": null,
      "outputs": [
        {
          "output_type": "execute_result",
          "data": {
            "text/html": [
              "<div>\n",
              "<style scoped>\n",
              "    .dataframe tbody tr th:only-of-type {\n",
              "        vertical-align: middle;\n",
              "    }\n",
              "\n",
              "    .dataframe tbody tr th {\n",
              "        vertical-align: top;\n",
              "    }\n",
              "\n",
              "    .dataframe thead th {\n",
              "        text-align: right;\n",
              "    }\n",
              "</style>\n",
              "<table border=\"1\" class=\"dataframe\">\n",
              "  <thead>\n",
              "    <tr style=\"text-align: right;\">\n",
              "      <th></th>\n",
              "      <th>id</th>\n",
              "      <th>belongs_to_collection</th>\n",
              "      <th>budget</th>\n",
              "      <th>genres</th>\n",
              "      <th>homepage</th>\n",
              "      <th>imdb_id</th>\n",
              "      <th>original_language</th>\n",
              "      <th>original_title</th>\n",
              "      <th>overview</th>\n",
              "      <th>popularity</th>\n",
              "      <th>poster_path</th>\n",
              "      <th>production_companies</th>\n",
              "      <th>production_countries</th>\n",
              "      <th>release_date</th>\n",
              "      <th>runtime</th>\n",
              "      <th>spoken_languages</th>\n",
              "      <th>status</th>\n",
              "      <th>tagline</th>\n",
              "      <th>title</th>\n",
              "      <th>Keywords</th>\n",
              "      <th>cast</th>\n",
              "      <th>crew</th>\n",
              "      <th>revenue</th>\n",
              "      <th>profit</th>\n",
              "    </tr>\n",
              "  </thead>\n",
              "  <tbody>\n",
              "    <tr>\n",
              "      <th>0</th>\n",
              "      <td>1</td>\n",
              "      <td>[{'id': 313576, 'name': 'Hot Tub Time Machine ...</td>\n",
              "      <td>14000000</td>\n",
              "      <td>[{'id': 35, 'name': 'Comedy'}]</td>\n",
              "      <td>NaN</td>\n",
              "      <td>tt2637294</td>\n",
              "      <td>en</td>\n",
              "      <td>Hot Tub Time Machine 2</td>\n",
              "      <td>When Lou, who has become the \"father of the In...</td>\n",
              "      <td>6.575393</td>\n",
              "      <td>/tQtWuwvMf0hCc2QR2tkolwl7c3c.jpg</td>\n",
              "      <td>[{'name': 'Paramount Pictures', 'id': 4}, {'na...</td>\n",
              "      <td>[{'iso_3166_1': 'US', 'name': 'United States o...</td>\n",
              "      <td>2/20/15</td>\n",
              "      <td>93.0</td>\n",
              "      <td>[{'iso_639_1': 'en', 'name': 'English'}]</td>\n",
              "      <td>Released</td>\n",
              "      <td>The Laws of Space and Time are About to be Vio...</td>\n",
              "      <td>Hot Tub Time Machine 2</td>\n",
              "      <td>[{'id': 4379, 'name': 'time travel'}, {'id': 9...</td>\n",
              "      <td>[{'cast_id': 4, 'character': 'Lou', 'credit_id...</td>\n",
              "      <td>[{'credit_id': '59ac067c92514107af02c8c8', 'de...</td>\n",
              "      <td>12314651</td>\n",
              "      <td>-1685349</td>\n",
              "    </tr>\n",
              "    <tr>\n",
              "      <th>1</th>\n",
              "      <td>2</td>\n",
              "      <td>[{'id': 107674, 'name': 'The Princess Diaries ...</td>\n",
              "      <td>40000000</td>\n",
              "      <td>[{'id': 35, 'name': 'Comedy'}, {'id': 18, 'nam...</td>\n",
              "      <td>NaN</td>\n",
              "      <td>tt0368933</td>\n",
              "      <td>en</td>\n",
              "      <td>The Princess Diaries 2: Royal Engagement</td>\n",
              "      <td>Mia Thermopolis is now a college graduate and ...</td>\n",
              "      <td>8.248895</td>\n",
              "      <td>/w9Z7A0GHEhIp7etpj0vyKOeU1Wx.jpg</td>\n",
              "      <td>[{'name': 'Walt Disney Pictures', 'id': 2}]</td>\n",
              "      <td>[{'iso_3166_1': 'US', 'name': 'United States o...</td>\n",
              "      <td>8/6/04</td>\n",
              "      <td>113.0</td>\n",
              "      <td>[{'iso_639_1': 'en', 'name': 'English'}]</td>\n",
              "      <td>Released</td>\n",
              "      <td>It can take a lifetime to find true love; she'...</td>\n",
              "      <td>The Princess Diaries 2: Royal Engagement</td>\n",
              "      <td>[{'id': 2505, 'name': 'coronation'}, {'id': 42...</td>\n",
              "      <td>[{'cast_id': 1, 'character': 'Mia Thermopolis'...</td>\n",
              "      <td>[{'credit_id': '52fe43fe9251416c7502563d', 'de...</td>\n",
              "      <td>95149435</td>\n",
              "      <td>55149435</td>\n",
              "    </tr>\n",
              "    <tr>\n",
              "      <th>2</th>\n",
              "      <td>3</td>\n",
              "      <td>NaN</td>\n",
              "      <td>3300000</td>\n",
              "      <td>[{'id': 18, 'name': 'Drama'}]</td>\n",
              "      <td>http://sonyclassics.com/whiplash/</td>\n",
              "      <td>tt2582802</td>\n",
              "      <td>en</td>\n",
              "      <td>Whiplash</td>\n",
              "      <td>Under the direction of a ruthless instructor, ...</td>\n",
              "      <td>64.299990</td>\n",
              "      <td>/lIv1QinFqz4dlp5U4lQ6HaiskOZ.jpg</td>\n",
              "      <td>[{'name': 'Bold Films', 'id': 2266}, {'name': ...</td>\n",
              "      <td>[{'iso_3166_1': 'US', 'name': 'United States o...</td>\n",
              "      <td>10/10/14</td>\n",
              "      <td>105.0</td>\n",
              "      <td>[{'iso_639_1': 'en', 'name': 'English'}]</td>\n",
              "      <td>Released</td>\n",
              "      <td>The road to greatness can take you to the edge.</td>\n",
              "      <td>Whiplash</td>\n",
              "      <td>[{'id': 1416, 'name': 'jazz'}, {'id': 1523, 'n...</td>\n",
              "      <td>[{'cast_id': 5, 'character': 'Andrew Neimann',...</td>\n",
              "      <td>[{'credit_id': '54d5356ec3a3683ba0000039', 'de...</td>\n",
              "      <td>13092000</td>\n",
              "      <td>9792000</td>\n",
              "    </tr>\n",
              "    <tr>\n",
              "      <th>3</th>\n",
              "      <td>4</td>\n",
              "      <td>NaN</td>\n",
              "      <td>1200000</td>\n",
              "      <td>[{'id': 53, 'name': 'Thriller'}, {'id': 18, 'n...</td>\n",
              "      <td>http://kahaanithefilm.com/</td>\n",
              "      <td>tt1821480</td>\n",
              "      <td>hi</td>\n",
              "      <td>Kahaani</td>\n",
              "      <td>Vidya Bagchi (Vidya Balan) arrives in Kolkata ...</td>\n",
              "      <td>3.174936</td>\n",
              "      <td>/aTXRaPrWSinhcmCrcfJK17urp3F.jpg</td>\n",
              "      <td>NaN</td>\n",
              "      <td>[{'iso_3166_1': 'IN', 'name': 'India'}]</td>\n",
              "      <td>3/9/12</td>\n",
              "      <td>122.0</td>\n",
              "      <td>[{'iso_639_1': 'en', 'name': 'English'}, {'iso...</td>\n",
              "      <td>Released</td>\n",
              "      <td>NaN</td>\n",
              "      <td>Kahaani</td>\n",
              "      <td>[{'id': 10092, 'name': 'mystery'}, {'id': 1054...</td>\n",
              "      <td>[{'cast_id': 1, 'character': 'Vidya Bagchi', '...</td>\n",
              "      <td>[{'credit_id': '52fe48779251416c9108d6eb', 'de...</td>\n",
              "      <td>16000000</td>\n",
              "      <td>14800000</td>\n",
              "    </tr>\n",
              "    <tr>\n",
              "      <th>4</th>\n",
              "      <td>5</td>\n",
              "      <td>NaN</td>\n",
              "      <td>0</td>\n",
              "      <td>[{'id': 28, 'name': 'Action'}, {'id': 53, 'nam...</td>\n",
              "      <td>NaN</td>\n",
              "      <td>tt1380152</td>\n",
              "      <td>ko</td>\n",
              "      <td>마린보이</td>\n",
              "      <td>Marine Boy is the story of a former national s...</td>\n",
              "      <td>1.148070</td>\n",
              "      <td>/m22s7zvkVFDU9ir56PiiqIEWFdT.jpg</td>\n",
              "      <td>NaN</td>\n",
              "      <td>[{'iso_3166_1': 'KR', 'name': 'South Korea'}]</td>\n",
              "      <td>2/5/09</td>\n",
              "      <td>118.0</td>\n",
              "      <td>[{'iso_639_1': 'ko', 'name': '한국어/조선말'}]</td>\n",
              "      <td>Released</td>\n",
              "      <td>NaN</td>\n",
              "      <td>Marine Boy</td>\n",
              "      <td>NaN</td>\n",
              "      <td>[{'cast_id': 3, 'character': 'Chun-soo', 'cred...</td>\n",
              "      <td>[{'credit_id': '52fe464b9251416c75073b43', 'de...</td>\n",
              "      <td>3923970</td>\n",
              "      <td>3923970</td>\n",
              "    </tr>\n",
              "  </tbody>\n",
              "</table>\n",
              "</div>"
            ],
            "text/plain": [
              "   id                              belongs_to_collection  ...   revenue    profit\n",
              "0   1  [{'id': 313576, 'name': 'Hot Tub Time Machine ...  ...  12314651  -1685349\n",
              "1   2  [{'id': 107674, 'name': 'The Princess Diaries ...  ...  95149435  55149435\n",
              "2   3                                                NaN  ...  13092000   9792000\n",
              "3   4                                                NaN  ...  16000000  14800000\n",
              "4   5                                                NaN  ...   3923970   3923970\n",
              "\n",
              "[5 rows x 24 columns]"
            ]
          },
          "metadata": {
            "tags": []
          },
          "execution_count": 23
        }
      ]
    },
    {
      "cell_type": "code",
      "metadata": {
        "id": "edlQ1YMMT7h8"
      },
      "source": [
        "#Claculate Max profit\n",
        "max_profit=imdb_df_new['profit'].max()"
      ],
      "execution_count": null,
      "outputs": []
    },
    {
      "cell_type": "code",
      "metadata": {
        "id": "kDi68_BfU7o-"
      },
      "source": [
        "max_profit_movie_df=imdb_df_new[imdb_df_new['profit']==imdb_df_new['profit'].max()]"
      ],
      "execution_count": null,
      "outputs": []
    },
    {
      "cell_type": "code",
      "metadata": {
        "colab": {
          "base_uri": "https://localhost:8080/",
          "height": 202
        },
        "id": "zoXVzW1IVJ1N",
        "outputId": "7f6cb6a1-3857-48bd-afac-dc1a41f1222c"
      },
      "source": [
        "max_profit_movie_df"
      ],
      "execution_count": null,
      "outputs": [
        {
          "output_type": "execute_result",
          "data": {
            "text/html": [
              "<div>\n",
              "<style scoped>\n",
              "    .dataframe tbody tr th:only-of-type {\n",
              "        vertical-align: middle;\n",
              "    }\n",
              "\n",
              "    .dataframe tbody tr th {\n",
              "        vertical-align: top;\n",
              "    }\n",
              "\n",
              "    .dataframe thead th {\n",
              "        text-align: right;\n",
              "    }\n",
              "</style>\n",
              "<table border=\"1\" class=\"dataframe\">\n",
              "  <thead>\n",
              "    <tr style=\"text-align: right;\">\n",
              "      <th></th>\n",
              "      <th>id</th>\n",
              "      <th>belongs_to_collection</th>\n",
              "      <th>budget</th>\n",
              "      <th>genres</th>\n",
              "      <th>homepage</th>\n",
              "      <th>imdb_id</th>\n",
              "      <th>original_language</th>\n",
              "      <th>original_title</th>\n",
              "      <th>overview</th>\n",
              "      <th>popularity</th>\n",
              "      <th>poster_path</th>\n",
              "      <th>production_companies</th>\n",
              "      <th>production_countries</th>\n",
              "      <th>release_date</th>\n",
              "      <th>runtime</th>\n",
              "      <th>spoken_languages</th>\n",
              "      <th>status</th>\n",
              "      <th>tagline</th>\n",
              "      <th>title</th>\n",
              "      <th>Keywords</th>\n",
              "      <th>cast</th>\n",
              "      <th>crew</th>\n",
              "      <th>revenue</th>\n",
              "      <th>profit</th>\n",
              "    </tr>\n",
              "  </thead>\n",
              "  <tbody>\n",
              "    <tr>\n",
              "      <th>1761</th>\n",
              "      <td>1762</td>\n",
              "      <td>[{'id': 9485, 'name': 'The Fast and the Furiou...</td>\n",
              "      <td>190000000</td>\n",
              "      <td>[{'id': 28, 'name': 'Action'}]</td>\n",
              "      <td>http://www.furious7.com/</td>\n",
              "      <td>tt2820852</td>\n",
              "      <td>en</td>\n",
              "      <td>Furious 7</td>\n",
              "      <td>Deckard Shaw seeks revenge against Dominic Tor...</td>\n",
              "      <td>27.275687</td>\n",
              "      <td>/dCgm7efXDmiABSdWDHBDBx2jwmn.jpg</td>\n",
              "      <td>[{'name': 'Universal Pictures', 'id': 33}, {'n...</td>\n",
              "      <td>[{'iso_3166_1': 'JP', 'name': 'Japan'}, {'iso_...</td>\n",
              "      <td>4/1/15</td>\n",
              "      <td>137.0</td>\n",
              "      <td>[{'iso_639_1': 'en', 'name': 'English'}]</td>\n",
              "      <td>Released</td>\n",
              "      <td>Vengeance Hits Home</td>\n",
              "      <td>Furious 7</td>\n",
              "      <td>[{'id': 830, 'name': 'car race'}, {'id': 3428,...</td>\n",
              "      <td>[{'cast_id': 17, 'character': 'Dominic Toretto...</td>\n",
              "      <td>[{'credit_id': '52fe4cc8c3a36847f823e681', 'de...</td>\n",
              "      <td>1506249360</td>\n",
              "      <td>1316249360</td>\n",
              "    </tr>\n",
              "  </tbody>\n",
              "</table>\n",
              "</div>"
            ],
            "text/plain": [
              "        id  ...      profit\n",
              "1761  1762  ...  1316249360\n",
              "\n",
              "[1 rows x 24 columns]"
            ]
          },
          "metadata": {
            "tags": []
          },
          "execution_count": 26
        }
      ]
    },
    {
      "cell_type": "code",
      "metadata": {
        "id": "AU9D04PyVMhd",
        "colab": {
          "base_uri": "https://localhost:8080/",
          "height": 137
        },
        "outputId": "da751cf9-6d93-4dcb-8193-85d28b5286fb"
      },
      "source": [
        "\n",
        "#Creating the crew list: List of crew members dictnaries\n",
        "crew_list=max_profit_movie_df.iloc[0]['crew']\n",
        "crew_list"
      ],
      "execution_count": null,
      "outputs": [
        {
          "output_type": "execute_result",
          "data": {
            "application/vnd.google.colaboratory.intrinsic+json": {
              "type": "string"
            },
            "text/plain": [
              "'[{\\'credit_id\\': \\'52fe4cc8c3a36847f823e681\\', \\'department\\': \\'Production\\', \\'gender\\': 2, \\'id\\': 12835, \\'job\\': \\'Producer\\', \\'name\\': \\'Vin Diesel\\', \\'profile_path\\': \\'/7rwSXluNWZAluYMOEWBxkPmckES.jpg\\'}, {\\'credit_id\\': \\'52fe4cc8c3a36847f823e687\\', \\'department\\': \\'Production\\', \\'gender\\': 2, \\'id\\': 11874, \\'job\\': \\'Producer\\', \\'name\\': \\'Neal H. Moritz\\', \\'profile_path\\': \\'/cNcsEYmoS4niCz3UkVAA09dUIob.jpg\\'}, {\\'credit_id\\': \\'52fe4cc8c3a36847f823e68d\\', \\'department\\': \\'Writing\\', \\'gender\\': 2, \\'id\\': 58191, \\'job\\': \\'Writer\\', \\'name\\': \\'Chris Morgan\\', \\'profile_path\\': \\'/dUGxIwFBLrSFLImxjeda1krndMO.jpg\\'}, {\\'credit_id\\': \\'52fe4cc8c3a36847f823e693\\', \\'department\\': \\'Writing\\', \\'gender\\': 0, \\'id\\': 8162, \\'job\\': \\'Characters\\', \\'name\\': \\'Gary Scott Thompson\\', \\'profile_path\\': \\'/e2dMfqFvRsOXgWZ1VToYLmos17y.jpg\\'}, {\\'credit_id\\': \\'52fe4cc8c3a36847f823e699\\', \\'department\\': \\'Directing\\', \\'gender\\': 2, \\'id\\': 2127, \\'job\\': \\'Director\\', \\'name\\': \\'James Wan\\', \\'profile_path\\': \\'/d1LSKfzi5J6QngWS7niN1zPJdud.jpg\\'}, {\\'credit_id\\': \\'52fe4cc8c3a36847f823e6a7\\', \\'department\\': \\'Camera\\', \\'gender\\': 2, \\'id\\': 58192, \\'job\\': \\'Director of Photography\\', \\'name\\': \\'Stephen F. Windon\\', \\'profile_path\\': None}, {\\'credit_id\\': \\'5534714692514125dc002be4\\', \\'department\\': \\'Visual Effects\\', \\'gender\\': 0, \\'id\\': 1455610, \\'job\\': \\'Animation\\', \\'name\\': \\'Tony Mecca\\', \\'profile_path\\': None}, {\\'credit_id\\': \\'554fa7b992514110bd002a9d\\', \\'department\\': \\'Camera\\', \\'gender\\': 0, \\'id\\': 1421687, \\'job\\': \\'Director of Photography\\', \\'name\\': \\'Marc Spicer\\', \\'profile_path\\': None}, {\\'credit_id\\': \\'554fa7cbc3a36822540047fd\\', \\'department\\': \\'Production\\', \\'gender\\': 1, \\'id\\': 90635, \\'job\\': \\'Executive Producer\\', \\'name\\': \\'Samantha Vincent\\', \\'profile_path\\': None}, {\\'credit_id\\': \\'554fa7d89251413fcf00773d\\', \\'department\\': \\'Production\\', \\'gender\\': 0, \\'id\\': 84064, \\'job\\': \\'Associate Producer\\', \\'name\\': \\'F. Valentino Morales\\', \\'profile_path\\': \\'/w85eCnNP0VgmfV5NWyq2SvRGi2y.jpg\\'}, {\\'credit_id\\': \\'554fa7f2c3a3682254004803\\', \\'department\\': \\'Production\\', \\'gender\\': 2, \\'id\\': 8181, \\'job\\': \\'Producer\\', \\'name\\': \\'Michael Fottrell\\', \\'profile_path\\': None}, {\\'credit_id\\': \\'554fa80292514110bd002aa8\\', \\'department\\': \\'Production\\', \\'gender\\': 0, \\'id\\': 75826, \\'job\\': \\'Producer\\', \\'name\\': \\'Brandon Birtell\\', \\'profile_path\\': None}, {\\'credit_id\\': \\'55ed993ac3a3682c62015607\\', \\'department\\': \\'Editing\\', \\'gender\\': 0, \\'id\\': 1204244, \\'job\\': \\'Editor\\', \\'name\\': \\'Leigh Folsom Boyd\\', \\'profile_path\\': None}, {\\'credit_id\\': \\'55ed994cc3a3687d3b00d64c\\', \\'department\\': \\'Editing\\', \\'gender\\': 0, \\'id\\': 1204245, \\'job\\': \\'Editor\\', \\'name\\': \\'Dylan Highsmith\\', \\'profile_path\\': None}, {\\'credit_id\\': \\'55ed995dc3a3682c5d016867\\', \\'department\\': \\'Editing\\', \\'gender\\': 0, \\'id\\': 62813, \\'job\\': \\'Editor\\', \\'name\\': \\'Kirk M. Morri\\', \\'profile_path\\': None}, {\\'credit_id\\': \\'55ed99739251413e41014641\\', \\'department\\': \\'Editing\\', \\'gender\\': 2, \\'id\\': 6668, \\'job\\': \\'Editor\\', \\'name\\': \\'Christian Wagner\\', \\'profile_path\\': None}, {\\'credit_id\\': \\'55ed99859251413e3a014aae\\', \\'department\\': \\'Production\\', \\'gender\\': 1, \\'id\\': 9545, \\'job\\': \\'Casting\\', \\'name\\': \\'Anne McCarthy\\', \\'profile_path\\': None}, {\\'credit_id\\': \\'55ed99a4c3a3682c5d016875\\', \\'department\\': \\'Production\\', \\'gender\\': 0, \\'id\\': 1276602, \\'job\\': \\'Casting\\', \\'name\\': \\'Kellie Roy\\', \\'profile_path\\': None}, {\\'credit_id\\': \\'55ed99c7c3a3682c5d01687e\\', \\'department\\': \\'Art\\', \\'gender\\': 0, \\'id\\': 1445830, \\'job\\': \\'Art Direction\\', \\'name\\': \\'Jonathan Carlos\\', \\'profile_path\\': None}, {\\'credit_id\\': \\'55ed99d89251413e32014a65\\', \\'department\\': \\'Art\\', \\'gender\\': 2, \\'id\\': 62780, \\'job\\': \\'Art Direction\\', \\'name\\': \\'Alan Hook\\', \\'profile_path\\': None}, {\\'credit_id\\': \\'55ed99e992514106d600d85e\\', \\'department\\': \\'Art\\', \\'gender\\': 0, \\'id\\': 1493864, \\'job\\': \\'Art Direction\\', \\'name\\': \\'Jay Pelissier\\', \\'profile_path\\': None}, {\\'credit_id\\': \\'55ed9a36c3a3682c700147e3\\', \\'department\\': \\'Art\\', \\'gender\\': 1, \\'id\\': 1506359, \\'job\\': \\'Art Department Coordinator\\', \\'name\\': \\'Kelly Richardson\\', \\'profile_path\\': None}, {\\'credit_id\\': \\'55ed9a52c3a3682c640130c3\\', \\'department\\': \\'Art\\', \\'gender\\': 0, \\'id\\': 1506360, \\'job\\': \\'Art Department Coordinator\\', \\'name\\': \\'Courtney Cocherell\\', \\'profile_path\\': None}, {\\'credit_id\\': \\'55ed9a6cc3a368090c004f9c\\', \\'department\\': \\'Art\\', \\'gender\\': 0, \\'id\\': 1326651, \\'job\\': \\'Assistant Art Director\\', \\'name\\': \\'Elena Albanese\\', \\'profile_path\\': None}, {\\'credit_id\\': \\'55ed9a96c3a3686f17003be1\\', \\'department\\': \\'Art\\', \\'gender\\': 0, \\'id\\': 1405376, \\'job\\': \\'Assistant Art Director\\', \\'name\\': \\'Alex McCarroll\\', \\'profile_path\\': None}, {\\'credit_id\\': \\'55ed9acbc3a3682c640130e4\\', \\'department\\': \\'Art\\', \\'gender\\': 0, \\'id\\': 1338147, \\'job\\': \\'Construction Coordinator\\', \\'name\\': \\'Bruce Di Valerio\\', \\'profile_path\\': None}, {\\'credit_id\\': \\'55ed9b03c3a3682c640130f5\\', \\'department\\': \\'Art\\', \\'gender\\': 2, \\'id\\': 52600, \\'job\\': \\'Production Design\\', \\'name\\': \\'Bill Brzeski\\', \\'profile_path\\': None}, {\\'credit_id\\': \\'55ed9b169251413e2f0145a8\\', \\'department\\': \\'Art\\', \\'gender\\': 1, \\'id\\': 75391, \\'job\\': \\'Set Decoration\\', \\'name\\': \\'Danielle Berman\\', \\'profile_path\\': None}, {\\'credit_id\\': \\'55ed9b29c3a3682c5d0168d9\\', \\'department\\': \\'Costume & Make-Up\\', \\'gender\\': 1, \\'id\\': 2519, \\'job\\': \\'Costume Design\\', \\'name\\': \\'Sanja Milkovic Hays\\', \\'profile_path\\': None}, {\\'credit_id\\': \\'55ed9bdac3a3682c62015698\\', \\'department\\': \\'Costume & Make-Up\\', \\'gender\\': 0, \\'id\\': 1439109, \\'job\\': \\'Costume Supervisor\\', \\'name\\': \\'Nava R. Sadan\\', \\'profile_path\\': None}, {\\'credit_id\\': \\'55ed9c0bc3a3686f17003c45\\', \\'department\\': \\'Costume & Make-Up\\', \\'gender\\': 0, \\'id\\': 1439747, \\'job\\': \\'Costume Supervisor\\', \\'name\\': \\'Andrew Hunt\\', \\'profile_path\\': None}, {\\'credit_id\\': \\'55ed9c3192514106d600d8e0\\', \\'department\\': \\'Costume & Make-Up\\', \\'gender\\': 0, \\'id\\': 1506364, \\'job\\': \\'Set Costumer\\', \\'name\\': \\'Jim Alan Cook\\', \\'profile_path\\': None}, {\\'credit_id\\': \\'55ed9c45c3a3682c5d016925\\', \\'department\\': \\'Costume & Make-Up\\', \\'gender\\': 0, \\'id\\': 1415019, \\'job\\': \\'Set Costumer\\', \\'name\\': \\'Shayne Allen Duhon\\', \\'profile_path\\': None}, {\\'credit_id\\': \\'55ed9c579251413e32014af5\\', \\'department\\': \\'Costume & Make-Up\\', \\'gender\\': 0, \\'id\\': 1506365, \\'job\\': \\'Set Costumer\\', \\'name\\': \\'Empress Holley\\', \\'profile_path\\': None}, {\\'credit_id\\': \\'55ed9c6d9251413e450148ff\\', \\'department\\': \\'Costume & Make-Up\\', \\'gender\\': 0, \\'id\\': 1413125, \\'job\\': \\'Set Costumer\\', \\'name\\': \\'Marina Marit\\', \\'profile_path\\': None}, {\\'credit_id\\': \\'55ed9c8d92514106d600d8fb\\', \\'department\\': \\'Costume & Make-Up\\', \\'gender\\': 0, \\'id\\': 1506366, \\'job\\': \\'Set Costumer\\', \\'name\\': \\'Les Morgan\\', \\'profile_path\\': None}, {\\'credit_id\\': \\'55ed9cda9251413e2f014612\\', \\'department\\': \\'Costume & Make-Up\\', \\'gender\\': 0, \\'id\\': 1408293, \\'job\\': \\'Hairstylist\\', \\'name\\': \\'Linda D. Flowers\\', \\'profile_path\\': None}, {\\'credit_id\\': \\'55ed9cf69251413e2f01461d\\', \\'department\\': \\'Costume & Make-Up\\', \\'gender\\': 0, \\'id\\': 1412767, \\'job\\': \\'Hairstylist\\', \\'name\\': \"Yesim \\'Shimmy\\' Osman\", \\'profile_path\\': None}, {\\'credit_id\\': \\'55ed9d0ec3a3687d3b00d73a\\', \\'department\\': \\'Costume & Make-Up\\', \\'gender\\': 0, \\'id\\': 1506367, \\'job\\': \\'Hairstylist\\', \\'name\\': \\'Jennifer Santiago\\', \\'profile_path\\': None}, {\\'credit_id\\': \\'55ed9d2a9251413e3e0155d8\\', \\'department\\': \\'Costume & Make-Up\\', \\'gender\\': 0, \\'id\\': 1425409, \\'job\\': \\'Hairstylist\\', \\'name\\': \\'Rachel Solow\\', \\'profile_path\\': None}, {\\'credit_id\\': \\'55ed9d4cc3a3682c620156ed\\', \\'department\\': \\'Costume & Make-Up\\', \\'gender\\': 0, \\'id\\': 1452643, \\'job\\': \\'Hairstylist\\', \\'name\\': \\'Roxane Griffin\\', \\'profile_path\\': None}, {\\'credit_id\\': \\'55ed9d6fc3a3682c5d01696f\\', \\'department\\': \\'Costume & Make-Up\\', \\'gender\\': 0, \\'id\\': 1309209, \\'job\\': \\'Makeup Department Head\\', \\'name\\': \\'James MacKinnon\\', \\'profile_path\\': None}, {\\'credit_id\\': \\'55ed9d8cc3a368090c00504f\\', \\'department\\': \\'Costume & Make-Up\\', \\'gender\\': 0, \\'id\\': 1506368, \\'job\\': \\'Makeup Artist\\', \\'name\\': \\'Autumn Butler\\', \\'profile_path\\': None}, {\\'credit_id\\': \\'55ed9da09251413e3a014b98\\', \\'department\\': \\'Costume & Make-Up\\', \\'gender\\': 0, \\'id\\': 1437798, \\'job\\': \\'Makeup Artist\\', \\'name\\': \"Roxy D\\'Alonzo\", \\'profile_path\\': None}, {\\'credit_id\\': \\'55ed9db79251413e3a014ba5\\', \\'department\\': \\'Costume & Make-Up\\', \\'gender\\': 0, \\'id\\': 1506369, \\'job\\': \\'Makeup Artist\\', \\'name\\': \\'Hee Soo Kwon\\', \\'profile_path\\': None}, {\\'credit_id\\': \\'55ed9dce9251413e32014b4e\\', \\'department\\': \\'Costume & Make-Up\\', \\'gender\\': 1, \\'id\\': 1459196, \\'job\\': \\'Makeup Artist\\', \\'name\\': \\'Sarah Mays\\', \\'profile_path\\': None}, {\\'credit_id\\': \\'55ed9de4c3a3687d3b00d775\\', \\'department\\': \\'Costume & Make-Up\\', \\'gender\\': 2, \\'id\\': 15330, \\'job\\': \\'Makeup Artist\\', \\'name\\': \\'Paul Pattison\\', \\'profile_path\\': None}, {\\'credit_id\\': \\'55ed9df99251413e3e015610\\', \\'department\\': \\'Costume & Make-Up\\', \\'gender\\': 0, \\'id\\': 1317667, \\'job\\': \\'Makeup Artist\\', \\'name\\': \\'Eleanor Sabaduquia\\', \\'profile_path\\': None}, {\\'credit_id\\': \\'55ed9e1fc3a3687d3b00d77e\\', \\'department\\': \\'Crew\\', \\'gender\\': 0, \\'id\\': 1414497, \\'job\\': \\'Property Master\\', \\'name\\': \\'Guillaume DeLouche\\', \\'profile_path\\': None}, {\\'credit_id\\': \\'55ed9e3ac3a368090c005084\\', \\'department\\': \\'Crew\\', \\'gender\\': 0, \\'id\\': 1464516, \\'job\\': \\'Property Master\\', \\'name\\': \\'Douglas T. Madison\\', \\'profile_path\\': None}, {\\'credit_id\\': \\'55ed9f5d9251413e3e015662\\', \\'department\\': \\'Crew\\', \\'gender\\': 2, \\'id\\': 57158, \\'job\\': \\'Second Unit Cinematographer\\', \\'name\\': \\'Igor Meglic\\', \\'profile_path\\': None}, {\\'credit_id\\': \\'55ed9fa0c3a3682c6401320f\\', \\'department\\': \\'Crew\\', \\'gender\\': 0, \\'id\\': 13670, \\'job\\': \\'Second Unit Cinematographer\\', \\'name\\': \\'Jacques Haitkin\\', \\'profile_path\\': None}, {\\'credit_id\\': \\'55ed9fc59251413e32014bbc\\', \\'department\\': \\'Lighting\\', \\'gender\\': 0, \\'id\\': 1437304, \\'job\\': \\'Gaffer\\', \\'name\\': \\'Michael Ambrose\\', \\'profile_path\\': None}, {\\'credit_id\\': \\'55ed9fe79251413e410147e4\\', \\'department\\': \\'Camera\\', \\'gender\\': 0, \\'id\\': 1506371, \\'job\\': \\'Camera Operator\\', \\'name\\': \\'Denise Bailie\\', \\'profile_path\\': None}, {\\'credit_id\\': \\'55ed9ffa9251413e3a014c40\\', \\'department\\': \\'Camera\\', \\'gender\\': 0, \\'id\\': 1506373, \\'job\\': \\'Camera Operator\\', \\'name\\': \\'Robert-James Bova\\', \\'profile_path\\': None}, {\\'credit_id\\': \\'55eda0299251413e3a014c49\\', \\'department\\': \\'Lighting\\', \\'gender\\': 0, \\'id\\': 1439108, \\'job\\': \\'Rigging Gaffer\\', \\'name\\': \\'Tom Fendley\\', \\'profile_path\\': None}, {\\'credit_id\\': \\'55eda056c3a3682c7001494b\\', \\'department\\': \\'Camera\\', \\'gender\\': 0, \\'id\\': 1434896, \\'job\\': \\'Camera Operator\\', \\'name\\': \\'Sarah Levy\\', \\'profile_path\\': None}, {\\'credit_id\\': \\'55eda06e9251413e450149ee\\', \\'department\\': \\'Camera\\', \\'gender\\': 2, \\'id\\': 74989, \\'job\\': \\'Camera Operator\\', \\'name\\': \\'Mark Emery Moore\\', \\'profile_path\\': \\'/mhjX0FuAXv6SeSLLFHpaaiQbx6P.jpg\\'}, {\\'credit_id\\': \\'55eda082c3a3682c6b014009\\', \\'department\\': \\'Camera\\', \\'gender\\': 2, \\'id\\': 1432918, \\'job\\': \\'Camera Operator\\', \\'name\\': \\'Daniel Nichols\\', \\'profile_path\\': None}, {\\'credit_id\\': \\'55eda09d9251413e3e01569d\\', \\'department\\': \\'Camera\\', \\'gender\\': 0, \\'id\\': 1439104, \\'job\\': \\'Camera Operator\\', \\'name\\': \\'Onofrio Nino Pansini\\', \\'profile_path\\': None}, {\\'credit_id\\': \\'55eda0b59251413e3a014c6c\\', \\'department\\': \\'Camera\\', \\'gender\\': 0, \\'id\\': 1408356, \\'job\\': \\'Camera Operator\\', \\'name\\': \\'David Richert\\', \\'profile_path\\': None}, {\\'credit_id\\': \\'55eda0d1c3a3686f17003d58\\', \\'department\\': \\'Camera\\', \\'gender\\': 2, \\'id\\': 1411271, \\'job\\': \\'Camera Operator\\', \\'name\\': \\'Michael J. Walker\\', \\'profile_path\\': None}, {\\'credit_id\\': \\'55eda0f7c3a3687d3b00d81b\\', \\'department\\': \\'Camera\\', \\'gender\\': 2, \\'id\\': 1378241, \\'job\\': \\'Camera Operator\\', \\'name\\': \\'Maurice K. McGuire\\', \\'profile_path\\': None}, {\\'credit_id\\': \\'55eda1159251413e3e0156bd\\', \\'department\\': \\'Camera\\', \\'gender\\': 0, \\'id\\': 1411842, \\'job\\': \\'Camera Operator\\', \\'name\\': \\'Richard Latham\\', \\'profile_path\\': None}, {\\'credit_id\\': \\'55eda12c92514106d600da0a\\', \\'department\\': \\'Camera\\', \\'gender\\': 0, \\'id\\': 1404739, \\'job\\': \\'Helicopter Camera\\', \\'name\\': \\'Steve Koster\\', \\'profile_path\\': None}, {\\'credit_id\\': \\'55eda1939251413e3501498d\\', \\'department\\': \\'Camera\\', \\'gender\\': 0, \\'id\\': 91122, \\'job\\': \\'Helicopter Camera\\', \\'name\\': \\'Dylan Goss\\', \\'profile_path\\': None}, {\\'credit_id\\': \\'55eda1b39251413e3a014ca8\\', \\'department\\': \\'Camera\\', \\'gender\\': 0, \\'id\\': 82169, \\'job\\': \\'Steadicam Operator\\', \\'name\\': \\'Geoffrey Haley\\', \\'profile_path\\': None}, {\\'credit_id\\': \\'55eda1c7c3a3686f17003d8c\\', \\'department\\': \\'Camera\\', \\'gender\\': 0, \\'id\\': 1419105, \\'job\\': \\'Still Photographer\\', \\'name\\': \\'Scott Garfield\\', \\'profile_path\\': None}, {\\'credit_id\\': \\'55eda1dbc3a3686f17003d92\\', \\'department\\': \\'Camera\\', \\'gender\\': 2, \\'id\\': 1395281, \\'job\\': \\'Additional Camera\\', \\'name\\': \\'Bob Gorelick\\', \\'profile_path\\': None}, {\\'credit_id\\': \\'55eda200c3a3682c5d016a8f\\', \\'department\\': \\'Camera\\', \\'gender\\': 0, \\'id\\': 1375920, \\'job\\': \\'Additional Camera\\', \\'name\\': \\'J. Christopher Campbell\\', \\'profile_path\\': None}, {\\'credit_id\\': \\'55eda228c3a3682c64013295\\', \\'department\\': \\'Lighting\\', \\'gender\\': 0, \\'id\\': 1403412, \\'job\\': \\'Gaffer\\', \\'name\\': \\'Dan Cornwall\\', \\'profile_path\\': None}, {\\'credit_id\\': \\'55eda25f92514106d600da4b\\', \\'department\\': \\'Visual Effects\\', \\'gender\\': 0, \\'id\\': 1442137, \\'job\\': \\'Animation Supervisor\\', \\'name\\': \\'Catherine Mullan\\', \\'profile_path\\': None}, {\\'credit_id\\': \\'55eda292c3a3682c5d016ab2\\', \\'department\\': \\'Sound\\', \\'gender\\': 0, \\'id\\': 1393405, \\'job\\': \\'Music Editor\\', \\'name\\': \\'Robb Boyd\\', \\'profile_path\\': None}, {\\'credit_id\\': \\'55eda2a9c3a3682c6b014075\\', \\'department\\': \\'Sound\\', \\'gender\\': 0, \\'id\\': 1328758, \\'job\\': \\'Music Editor\\', \\'name\\': \\'Matthew Llewellyn\\', \\'profile_path\\': None}, {\\'credit_id\\': \\'55eda2c89251413e45014a6d\\', \\'department\\': \\'Directing\\', \\'gender\\': 0, \\'id\\': 1389138, \\'job\\': \\'Script Supervisor\\', \\'name\\': \\'Jody Blose\\', \\'profile_path\\': None}, {\\'credit_id\\': \\'55eda305c3a3682c700149c1\\', \\'department\\': \\'Directing\\', \\'gender\\': 0, \\'id\\': 1408365, \\'job\\': \\'Script Supervisor\\', \\'name\\': \\'Brenda K. Wachel\\', \\'profile_path\\': None}, {\\'credit_id\\': \\'55eda32dc3a3686f17003ddd\\', \\'department\\': \\'Crew\\', \\'gender\\': 2, \\'id\\': 8167, \\'job\\': \\'Thanks\\', \\'name\\': \\'Paul Walker\\', \\'profile_path\\': \\'/iqvYezRoEY5k8wnlfHriHQfl5dX.jpg\\'}, {\\'credit_id\\': \\'55eda3b592514106d600da94\\', \\'department\\': \\'Editing\\', \\'gender\\': 0, \\'id\\': 1400354, \\'job\\': \\'Digital Intermediate\\', \\'name\\': \\'Amy Pawlowski\\', \\'profile_path\\': None}, {\\'credit_id\\': \\'55eda3d792514106d600da9b\\', \\'department\\': \\'Editing\\', \\'gender\\': 0, \\'id\\': 110262, \\'job\\': \\'First Assistant Editor\\', \\'name\\': \\'Richard Conkling\\', \\'profile_path\\': None}, {\\'credit_id\\': \\'55eda3edc3a3686f17003e0c\\', \\'department\\': \\'Editing\\', \\'gender\\': 0, \\'id\\': 1194885, \\'job\\': \\'First Assistant Editor\\', \\'name\\': \\'Dave  Cory\\', \\'profile_path\\': None}, {\\'credit_id\\': \\'55eda4169251413e410148ec\\', \\'department\\': \\'Editing\\', \\'gender\\': 0, \\'id\\': 1439749, \\'job\\': \\'First Assistant Editor\\', \\'name\\': \\'Laura Steiger\\', \\'profile_path\\': None}, {\\'credit_id\\': \\'55eda48092514106d600daba\\', \\'department\\': \\'Visual Effects\\', \\'gender\\': 0, \\'id\\': 1506377, \\'job\\': \\'Animation Supervisor\\', \\'name\\': \\'Daniel Barrett\\', \\'profile_path\\': \\'/pplTJP3gCWmP3SMDrXjOt1579MV.jpg\\'}, {\\'credit_id\\': \\'55eda5109251413e32014cf0\\', \\'department\\': \\'Sound\\', \\'gender\\': 0, \\'id\\': 12562, \\'job\\': \\'ADR & Dubbing\\', \\'name\\': \\'Anna MacKenzie\\', \\'profile_path\\': None}, {\\'credit_id\\': \\'55eda51ac3a3686f17003e52\\', \\'department\\': \\'Editing\\', \\'gender\\': 0, \\'id\\': 12562, \\'job\\': \\'Dialogue Editor\\', \\'name\\': \\'Anna MacKenzie\\', \\'profile_path\\': None}, {\\'credit_id\\': \\'55eda539c3a368090c0051c2\\', \\'department\\': \\'Editing\\', \\'gender\\': 0, \\'id\\': 1342658, \\'job\\': \\'Dialogue Editor\\', \\'name\\': \\'Frederick H. Stahly\\', \\'profile_path\\': None}, {\\'credit_id\\': \\'55eda56a9251413e45014adf\\', \\'department\\': \\'Sound\\', \\'gender\\': 2, \\'id\\': 1077782, \\'job\\': \\'Foley\\', \\'name\\': \\'Gary A. Hecker\\', \\'profile_path\\': \\'/qyBUauN3XIS2Mlus3OdGCmrUo0S.jpg\\'}, {\\'credit_id\\': \\'55eda58292514106d600daf4\\', \\'department\\': \\'Sound\\', \\'gender\\': 0, \\'id\\': 1367362, \\'job\\': \\'Foley\\', \\'name\\': \\'Rick Owens\\', \\'profile_path\\': None}, {\\'credit_id\\': \\'55eda59ac3a3682c5d016b50\\', \\'department\\': \\'Sound\\', \\'gender\\': 0, \\'id\\': 1236340, \\'job\\': \\'Foley\\', \\'name\\': \\'Dylan Tuomy-Wilhoit\\', \\'profile_path\\': None}, {\\'credit_id\\': \\'55eda5b09251413e45014af1\\', \\'department\\': \\'Sound\\', \\'gender\\': 0, \\'id\\': 548445, \\'job\\': \\'Foley\\', \\'name\\': \\'Jeffrey Wilhoit\\', \\'profile_path\\': None}, {\\'credit_id\\': \\'55eda7169251413e45014b3b\\', \\'department\\': \\'Sound\\', \\'gender\\': 2, \\'id\\': 7239, \\'job\\': \\'Sound Designer\\', \\'name\\': \\'Peter Brown\\', \\'profile_path\\': None}, {\\'credit_id\\': \\'55eda73d9251413e4101498c\\', \\'department\\': \\'Sound\\', \\'gender\\': 0, \\'id\\': 1392083, \\'job\\': \\'Sound Designer\\', \\'name\\': \\'Ann Scibelli\\', \\'profile_path\\': None}, {\\'credit_id\\': \\'55eda779c3a3682c70014abc\\', \\'department\\': \\'Sound\\', \\'gender\\': 0, \\'id\\': 1413453, \\'job\\': \\'Sound Effects Editor\\', \\'name\\': \\'Stephen P. Robinson\\', \\'profile_path\\': None}, {\\'credit_id\\': \\'55eda7989251413e3e015838\\', \\'department\\': \\'Sound\\', \\'gender\\': 0, \\'id\\': 1394131, \\'job\\': \\'Sound Re-Recording Mixer\\', \\'name\\': \\'Jon Taylor\\', \\'profile_path\\': None}, {\\'credit_id\\': \\'55eda7afc3a3686f17003ebf\\', \\'department\\': \\'Sound\\', \\'gender\\': 0, \\'id\\': 1394130, \\'job\\': \\'Sound Re-Recording Mixer\\', \\'name\\': \\'Frank A. Monta√±o\\', \\'profile_path\\': None}, {\\'credit_id\\': \\'55eda7d79251413e32014e11\\', \\'department\\': \\'Sound\\', \\'gender\\': 0, \\'id\\': 1309884, \\'job\\': \\'Supervising Sound Editor\\', \\'name\\': \\'Joe Dzuban\\', \\'profile_path\\': None}, {\\'credit_id\\': \\'570bd40dc3a36802a30002d9\\', \\'department\\': \\'Art\\', \\'gender\\': 0, \\'id\\': 1424153, \\'job\\': \\'Supervising Art Director\\', \\'name\\': \\'Desma Murphy\\', \\'profile_path\\': None}, {\\'credit_id\\': \\'5668cc7a92514174040040f2\\', \\'department\\': \\'Sound\\', \\'gender\\': 2, \\'id\\': 6041, \\'job\\': \\'Original Music Composer\\', \\'name\\': \\'Brian Tyler\\', \\'profile_path\\': \\'/22QWiNJj03amY6GT1QPUs7dbdcB.jpg\\'}, {\\'credit_id\\': \\'58ebe1fa925141281008e943\\', \\'department\\': \\'Production\\', \\'gender\\': 2, \\'id\\': 58191, \\'job\\': \\'Executive Producer\\', \\'name\\': \\'Chris Morgan\\', \\'profile_path\\': \\'/dUGxIwFBLrSFLImxjeda1krndMO.jpg\\'}]'"
            ]
          },
          "metadata": {
            "tags": []
          },
          "execution_count": 27
        }
      ]
    },
    {
      "cell_type": "code",
      "metadata": {
        "id": "yI65_5JXWMey",
        "colab": {
          "base_uri": "https://localhost:8080/",
          "height": 231
        },
        "outputId": "31f05de3-d547-4591-b019-11e27286315e"
      },
      "source": [
        "# Get name of Producers and Directors:\n",
        "producer_list=[]\n",
        "director_list=[]\n",
        "for elem in crew_list:\n",
        "  if elem['job']=='Producer':\n",
        "    producer_list.append(elem['name'])\n",
        "    # print(f\"The producer of movie is {elem['name']} \")\n",
        "  if elem['job']=='Director':\n",
        "    director_list.append(elem['name'])\n",
        "    # print(f\"The Director of movie is {elem['name']} \")"
      ],
      "execution_count": null,
      "outputs": [
        {
          "output_type": "error",
          "ename": "TypeError",
          "evalue": "ignored",
          "traceback": [
            "\u001b[0;31m---------------------------------------------------------------------------\u001b[0m",
            "\u001b[0;31mTypeError\u001b[0m                                 Traceback (most recent call last)",
            "\u001b[0;32m<ipython-input-28-029a76b4026b>\u001b[0m in \u001b[0;36m<module>\u001b[0;34m()\u001b[0m\n\u001b[1;32m      3\u001b[0m \u001b[0mdirector_list\u001b[0m\u001b[0;34m=\u001b[0m\u001b[0;34m[\u001b[0m\u001b[0;34m]\u001b[0m\u001b[0;34m\u001b[0m\u001b[0;34m\u001b[0m\u001b[0m\n\u001b[1;32m      4\u001b[0m \u001b[0;32mfor\u001b[0m \u001b[0melem\u001b[0m \u001b[0;32min\u001b[0m \u001b[0mcrew_list\u001b[0m\u001b[0;34m:\u001b[0m\u001b[0;34m\u001b[0m\u001b[0;34m\u001b[0m\u001b[0m\n\u001b[0;32m----> 5\u001b[0;31m   \u001b[0;32mif\u001b[0m \u001b[0melem\u001b[0m\u001b[0;34m[\u001b[0m\u001b[0;34m'job'\u001b[0m\u001b[0;34m]\u001b[0m\u001b[0;34m==\u001b[0m\u001b[0;34m'Producer'\u001b[0m\u001b[0;34m:\u001b[0m\u001b[0;34m\u001b[0m\u001b[0;34m\u001b[0m\u001b[0m\n\u001b[0m\u001b[1;32m      6\u001b[0m     \u001b[0mproducer_list\u001b[0m\u001b[0;34m.\u001b[0m\u001b[0mappend\u001b[0m\u001b[0;34m(\u001b[0m\u001b[0melem\u001b[0m\u001b[0;34m[\u001b[0m\u001b[0;34m'name'\u001b[0m\u001b[0;34m]\u001b[0m\u001b[0;34m)\u001b[0m\u001b[0;34m\u001b[0m\u001b[0;34m\u001b[0m\u001b[0m\n\u001b[1;32m      7\u001b[0m     \u001b[0;31m# print(f\"The producer of movie is {elem['name']} \")\u001b[0m\u001b[0;34m\u001b[0m\u001b[0;34m\u001b[0m\u001b[0;34m\u001b[0m\u001b[0m\n",
            "\u001b[0;31mTypeError\u001b[0m: string indices must be integers"
          ]
        }
      ]
    },
    {
      "cell_type": "code",
      "metadata": {
        "colab": {
          "base_uri": "https://localhost:8080/"
        },
        "id": "-ywVINIzZVtP",
        "outputId": "6daa7fea-b4e9-40dd-ae1e-044698b76d91"
      },
      "source": [
        "producer_list,director_list"
      ],
      "execution_count": null,
      "outputs": [
        {
          "output_type": "execute_result",
          "data": {
            "text/plain": [
              "(['Vin Diesel', 'Neal H. Moritz', 'Michael Fottrell', 'Brandon Birtell'],\n",
              " ['James Wan'])"
            ]
          },
          "metadata": {
            "tags": []
          },
          "execution_count": 45
        }
      ]
    },
    {
      "cell_type": "markdown",
      "metadata": {
        "id": "sKgiZFUPazT3"
      },
      "source": [
        "## Get the actors for the highest grossing movie"
      ]
    },
    {
      "cell_type": "code",
      "metadata": {
        "id": "xZNUr_rlabLt"
      },
      "source": [
        "#Get the cast list:\n",
        "cast_list=max_profit_movie_df.iloc[0]['cast']\n",
        "cast_list"
      ],
      "execution_count": null,
      "outputs": []
    },
    {
      "cell_type": "code",
      "metadata": {
        "id": "-TzkilapblCA"
      },
      "source": [
        "# Get name of Actors:\n",
        "\n",
        "actor_list=[]\n",
        "for elem in cast_list:\n",
        "  actor_list.append(elem['name'])\n",
        "\n",
        "actor_list\n"
      ],
      "execution_count": null,
      "outputs": []
    },
    {
      "cell_type": "markdown",
      "metadata": {
        "id": "wHe8MNkCd2Fu"
      },
      "source": [
        "# 2)This data has information about movies made in different languages. Which language has the highest average ROI (return on investment)?"
      ]
    },
    {
      "cell_type": "code",
      "metadata": {
        "id": "1i5DqNGJcF_R"
      },
      "source": [
        "#Calculate the ROI:\n",
        "imdb_df_new['roi']= 100 * (imdb_df_new['profit']/imdb_df_new['budget'])"
      ],
      "execution_count": null,
      "outputs": []
    },
    {
      "cell_type": "code",
      "metadata": {
        "colab": {
          "base_uri": "https://localhost:8080/",
          "height": 204
        },
        "id": "e6KhzatPekw1",
        "outputId": "ea7d58ee-4966-4e6f-fedb-cc51a634f3de"
      },
      "source": [
        "imdb_df_new.head()"
      ],
      "execution_count": null,
      "outputs": [
        {
          "output_type": "execute_result",
          "data": {
            "text/html": [
              "<div>\n",
              "<style scoped>\n",
              "    .dataframe tbody tr th:only-of-type {\n",
              "        vertical-align: middle;\n",
              "    }\n",
              "\n",
              "    .dataframe tbody tr th {\n",
              "        vertical-align: top;\n",
              "    }\n",
              "\n",
              "    .dataframe thead th {\n",
              "        text-align: right;\n",
              "    }\n",
              "</style>\n",
              "<table border=\"1\" class=\"dataframe\">\n",
              "  <thead>\n",
              "    <tr style=\"text-align: right;\">\n",
              "      <th></th>\n",
              "      <th>budget</th>\n",
              "      <th>genres</th>\n",
              "      <th>imdb_id</th>\n",
              "      <th>original_language</th>\n",
              "      <th>original_title</th>\n",
              "      <th>revenue</th>\n",
              "      <th>cast</th>\n",
              "      <th>crew</th>\n",
              "      <th>profit</th>\n",
              "      <th>roi</th>\n",
              "    </tr>\n",
              "  </thead>\n",
              "  <tbody>\n",
              "    <tr>\n",
              "      <th>0</th>\n",
              "      <td>14000000</td>\n",
              "      <td>[{'id': 35, 'name': 'Comedy'}]</td>\n",
              "      <td>tt2637294</td>\n",
              "      <td>en</td>\n",
              "      <td>Hot Tub Time Machine 2</td>\n",
              "      <td>12314651</td>\n",
              "      <td>[{'cast_id': 4, 'character': 'Lou', 'credit_id...</td>\n",
              "      <td>[{'credit_id': '59ac067c92514107af02c8c8', 'de...</td>\n",
              "      <td>-1685349</td>\n",
              "      <td>-12.038207</td>\n",
              "    </tr>\n",
              "    <tr>\n",
              "      <th>1</th>\n",
              "      <td>40000000</td>\n",
              "      <td>[{'id': 35, 'name': 'Comedy'}, {'id': 18, 'nam...</td>\n",
              "      <td>tt0368933</td>\n",
              "      <td>en</td>\n",
              "      <td>The Princess Diaries 2: Royal Engagement</td>\n",
              "      <td>95149435</td>\n",
              "      <td>[{'cast_id': 1, 'character': 'Mia Thermopolis'...</td>\n",
              "      <td>[{'credit_id': '52fe43fe9251416c7502563d', 'de...</td>\n",
              "      <td>55149435</td>\n",
              "      <td>137.873588</td>\n",
              "    </tr>\n",
              "    <tr>\n",
              "      <th>2</th>\n",
              "      <td>3300000</td>\n",
              "      <td>[{'id': 18, 'name': 'Drama'}]</td>\n",
              "      <td>tt2582802</td>\n",
              "      <td>en</td>\n",
              "      <td>Whiplash</td>\n",
              "      <td>13092000</td>\n",
              "      <td>[{'cast_id': 5, 'character': 'Andrew Neimann',...</td>\n",
              "      <td>[{'credit_id': '54d5356ec3a3683ba0000039', 'de...</td>\n",
              "      <td>9792000</td>\n",
              "      <td>296.727273</td>\n",
              "    </tr>\n",
              "    <tr>\n",
              "      <th>3</th>\n",
              "      <td>1200000</td>\n",
              "      <td>[{'id': 53, 'name': 'Thriller'}, {'id': 18, 'n...</td>\n",
              "      <td>tt1821480</td>\n",
              "      <td>hi</td>\n",
              "      <td>Kahaani</td>\n",
              "      <td>16000000</td>\n",
              "      <td>[{'cast_id': 1, 'character': 'Vidya Bagchi', '...</td>\n",
              "      <td>[{'credit_id': '52fe48779251416c9108d6eb', 'de...</td>\n",
              "      <td>14800000</td>\n",
              "      <td>1233.333333</td>\n",
              "    </tr>\n",
              "    <tr>\n",
              "      <th>4</th>\n",
              "      <td>16450000</td>\n",
              "      <td>[{'id': 28, 'name': 'Action'}, {'id': 53, 'nam...</td>\n",
              "      <td>tt1380152</td>\n",
              "      <td>ko</td>\n",
              "      <td>마린보이</td>\n",
              "      <td>3923970</td>\n",
              "      <td>[{'cast_id': 3, 'character': 'Chun-soo', 'cred...</td>\n",
              "      <td>[{'credit_id': '52fe464b9251416c75073b43', 'de...</td>\n",
              "      <td>-12526030</td>\n",
              "      <td>-76.146079</td>\n",
              "    </tr>\n",
              "  </tbody>\n",
              "</table>\n",
              "</div>"
            ],
            "text/plain": [
              "     budget  ...          roi\n",
              "0  14000000  ...   -12.038207\n",
              "1  40000000  ...   137.873588\n",
              "2   3300000  ...   296.727273\n",
              "3   1200000  ...  1233.333333\n",
              "4  16450000  ...   -76.146079\n",
              "\n",
              "[5 rows x 10 columns]"
            ]
          },
          "metadata": {
            "tags": []
          },
          "execution_count": 49
        }
      ]
    },
    {
      "cell_type": "markdown",
      "metadata": {
        "id": "Qg5XuFBTe_pe"
      },
      "source": [
        "## We will groupby on the original language and calculate the mean of the ROI"
      ]
    },
    {
      "cell_type": "code",
      "metadata": {
        "id": "trNi91mPfsGo"
      },
      "source": [
        "# Creating grouped dataframe:\n",
        "roi_language_df=imdb_df_new.groupby('original_language')['roi'].mean().reset_index()\n",
        "roi_language_df"
      ],
      "execution_count": null,
      "outputs": []
    },
    {
      "cell_type": "code",
      "metadata": {
        "id": "HdndyEC1em1t",
        "colab": {
          "base_uri": "https://localhost:8080/",
          "height": 80
        },
        "outputId": "6d9c01aa-3674-4371-8124-1f26e657be9c"
      },
      "source": [
        "# finding the language with the highest average ROI\n",
        "max_roi_lan=roi_language_df[roi_language_df['roi']==roi_language_df['roi'].max()]\n",
        "max_roi_lan"
      ],
      "execution_count": null,
      "outputs": [
        {
          "output_type": "execute_result",
          "data": {
            "text/html": [
              "<div>\n",
              "<style scoped>\n",
              "    .dataframe tbody tr th:only-of-type {\n",
              "        vertical-align: middle;\n",
              "    }\n",
              "\n",
              "    .dataframe tbody tr th {\n",
              "        vertical-align: top;\n",
              "    }\n",
              "\n",
              "    .dataframe thead th {\n",
              "        text-align: right;\n",
              "    }\n",
              "</style>\n",
              "<table border=\"1\" class=\"dataframe\">\n",
              "  <thead>\n",
              "    <tr style=\"text-align: right;\">\n",
              "      <th></th>\n",
              "      <th>original_language</th>\n",
              "      <th>roi</th>\n",
              "    </tr>\n",
              "  </thead>\n",
              "  <tbody>\n",
              "    <tr>\n",
              "      <th>18</th>\n",
              "      <td>ko</td>\n",
              "      <td>11277.949295</td>\n",
              "    </tr>\n",
              "  </tbody>\n",
              "</table>\n",
              "</div>"
            ],
            "text/plain": [
              "   original_language           roi\n",
              "18                ko  11277.949295"
            ]
          },
          "metadata": {
            "tags": []
          },
          "execution_count": 51
        }
      ]
    },
    {
      "cell_type": "code",
      "metadata": {
        "id": "p-fo3V5kl0GY"
      },
      "source": [
        "max_roi_lan=roi_language_df[roi_language_df['roi']==roi_language_df['roi'].max()]['original_language']\n",
        "max_roi_lan\n"
      ],
      "execution_count": null,
      "outputs": []
    },
    {
      "cell_type": "code",
      "metadata": {
        "colab": {
          "base_uri": "https://localhost:8080/"
        },
        "id": "2huk4LHDlg75",
        "outputId": "2c44ed39-f031-4689-e8e2-bc3b470a47ba"
      },
      "source": [
        "print('The language with the highest average ROI is:', max_roi_lan.values)"
      ],
      "execution_count": null,
      "outputs": [
        {
          "output_type": "stream",
          "text": [
            "The language with the highest average ROI is: ['ko']\n"
          ],
          "name": "stdout"
        }
      ]
    },
    {
      "cell_type": "markdown",
      "metadata": {
        "id": "KzXyrL6Gn_JW"
      },
      "source": [
        "# 3)Find out the unique genres of movies in this dataset."
      ]
    },
    {
      "cell_type": "code",
      "metadata": {
        "id": "6bTlAzezmIgP",
        "colab": {
          "base_uri": "https://localhost:8080/",
          "height": 1000
        },
        "outputId": "b28d6523-03dc-4d61-f0ee-cdf7d481d36f"
      },
      "source": [
        "#Considering onlt the those observation for which genre is not taking the null value:\n",
        "imdb_df_no_na_genres= imdb_df_new[~imdb_df_new['genres'].isna()]\n",
        "imdb_df_no_na_genres"
      ],
      "execution_count": null,
      "outputs": [
        {
          "output_type": "execute_result",
          "data": {
            "text/html": [
              "<div>\n",
              "<style scoped>\n",
              "    .dataframe tbody tr th:only-of-type {\n",
              "        vertical-align: middle;\n",
              "    }\n",
              "\n",
              "    .dataframe tbody tr th {\n",
              "        vertical-align: top;\n",
              "    }\n",
              "\n",
              "    .dataframe thead th {\n",
              "        text-align: right;\n",
              "    }\n",
              "</style>\n",
              "<table border=\"1\" class=\"dataframe\">\n",
              "  <thead>\n",
              "    <tr style=\"text-align: right;\">\n",
              "      <th></th>\n",
              "      <th>id</th>\n",
              "      <th>belongs_to_collection</th>\n",
              "      <th>budget</th>\n",
              "      <th>genres</th>\n",
              "      <th>homepage</th>\n",
              "      <th>imdb_id</th>\n",
              "      <th>original_language</th>\n",
              "      <th>original_title</th>\n",
              "      <th>overview</th>\n",
              "      <th>popularity</th>\n",
              "      <th>poster_path</th>\n",
              "      <th>production_companies</th>\n",
              "      <th>production_countries</th>\n",
              "      <th>release_date</th>\n",
              "      <th>runtime</th>\n",
              "      <th>spoken_languages</th>\n",
              "      <th>status</th>\n",
              "      <th>tagline</th>\n",
              "      <th>title</th>\n",
              "      <th>Keywords</th>\n",
              "      <th>cast</th>\n",
              "      <th>crew</th>\n",
              "      <th>revenue</th>\n",
              "    </tr>\n",
              "  </thead>\n",
              "  <tbody>\n",
              "    <tr>\n",
              "      <th>0</th>\n",
              "      <td>1</td>\n",
              "      <td>[{'id': 313576, 'name': 'Hot Tub Time Machine ...</td>\n",
              "      <td>14000000</td>\n",
              "      <td>[{'id': 35, 'name': 'Comedy'}]</td>\n",
              "      <td>NaN</td>\n",
              "      <td>tt2637294</td>\n",
              "      <td>en</td>\n",
              "      <td>Hot Tub Time Machine 2</td>\n",
              "      <td>When Lou, who has become the \"father of the In...</td>\n",
              "      <td>6.575393</td>\n",
              "      <td>/tQtWuwvMf0hCc2QR2tkolwl7c3c.jpg</td>\n",
              "      <td>[{'name': 'Paramount Pictures', 'id': 4}, {'na...</td>\n",
              "      <td>[{'iso_3166_1': 'US', 'name': 'United States o...</td>\n",
              "      <td>2/20/15</td>\n",
              "      <td>93.0</td>\n",
              "      <td>[{'iso_639_1': 'en', 'name': 'English'}]</td>\n",
              "      <td>Released</td>\n",
              "      <td>The Laws of Space and Time are About to be Vio...</td>\n",
              "      <td>Hot Tub Time Machine 2</td>\n",
              "      <td>[{'id': 4379, 'name': 'time travel'}, {'id': 9...</td>\n",
              "      <td>[{'cast_id': 4, 'character': 'Lou', 'credit_id...</td>\n",
              "      <td>[{'credit_id': '59ac067c92514107af02c8c8', 'de...</td>\n",
              "      <td>12314651</td>\n",
              "    </tr>\n",
              "    <tr>\n",
              "      <th>1</th>\n",
              "      <td>2</td>\n",
              "      <td>[{'id': 107674, 'name': 'The Princess Diaries ...</td>\n",
              "      <td>40000000</td>\n",
              "      <td>[{'id': 35, 'name': 'Comedy'}, {'id': 18, 'nam...</td>\n",
              "      <td>NaN</td>\n",
              "      <td>tt0368933</td>\n",
              "      <td>en</td>\n",
              "      <td>The Princess Diaries 2: Royal Engagement</td>\n",
              "      <td>Mia Thermopolis is now a college graduate and ...</td>\n",
              "      <td>8.248895</td>\n",
              "      <td>/w9Z7A0GHEhIp7etpj0vyKOeU1Wx.jpg</td>\n",
              "      <td>[{'name': 'Walt Disney Pictures', 'id': 2}]</td>\n",
              "      <td>[{'iso_3166_1': 'US', 'name': 'United States o...</td>\n",
              "      <td>8/6/04</td>\n",
              "      <td>113.0</td>\n",
              "      <td>[{'iso_639_1': 'en', 'name': 'English'}]</td>\n",
              "      <td>Released</td>\n",
              "      <td>It can take a lifetime to find true love; she'...</td>\n",
              "      <td>The Princess Diaries 2: Royal Engagement</td>\n",
              "      <td>[{'id': 2505, 'name': 'coronation'}, {'id': 42...</td>\n",
              "      <td>[{'cast_id': 1, 'character': 'Mia Thermopolis'...</td>\n",
              "      <td>[{'credit_id': '52fe43fe9251416c7502563d', 'de...</td>\n",
              "      <td>95149435</td>\n",
              "    </tr>\n",
              "    <tr>\n",
              "      <th>2</th>\n",
              "      <td>3</td>\n",
              "      <td>NaN</td>\n",
              "      <td>3300000</td>\n",
              "      <td>[{'id': 18, 'name': 'Drama'}]</td>\n",
              "      <td>http://sonyclassics.com/whiplash/</td>\n",
              "      <td>tt2582802</td>\n",
              "      <td>en</td>\n",
              "      <td>Whiplash</td>\n",
              "      <td>Under the direction of a ruthless instructor, ...</td>\n",
              "      <td>64.299990</td>\n",
              "      <td>/lIv1QinFqz4dlp5U4lQ6HaiskOZ.jpg</td>\n",
              "      <td>[{'name': 'Bold Films', 'id': 2266}, {'name': ...</td>\n",
              "      <td>[{'iso_3166_1': 'US', 'name': 'United States o...</td>\n",
              "      <td>10/10/14</td>\n",
              "      <td>105.0</td>\n",
              "      <td>[{'iso_639_1': 'en', 'name': 'English'}]</td>\n",
              "      <td>Released</td>\n",
              "      <td>The road to greatness can take you to the edge.</td>\n",
              "      <td>Whiplash</td>\n",
              "      <td>[{'id': 1416, 'name': 'jazz'}, {'id': 1523, 'n...</td>\n",
              "      <td>[{'cast_id': 5, 'character': 'Andrew Neimann',...</td>\n",
              "      <td>[{'credit_id': '54d5356ec3a3683ba0000039', 'de...</td>\n",
              "      <td>13092000</td>\n",
              "    </tr>\n",
              "    <tr>\n",
              "      <th>3</th>\n",
              "      <td>4</td>\n",
              "      <td>NaN</td>\n",
              "      <td>1200000</td>\n",
              "      <td>[{'id': 53, 'name': 'Thriller'}, {'id': 18, 'n...</td>\n",
              "      <td>http://kahaanithefilm.com/</td>\n",
              "      <td>tt1821480</td>\n",
              "      <td>hi</td>\n",
              "      <td>Kahaani</td>\n",
              "      <td>Vidya Bagchi (Vidya Balan) arrives in Kolkata ...</td>\n",
              "      <td>3.174936</td>\n",
              "      <td>/aTXRaPrWSinhcmCrcfJK17urp3F.jpg</td>\n",
              "      <td>NaN</td>\n",
              "      <td>[{'iso_3166_1': 'IN', 'name': 'India'}]</td>\n",
              "      <td>3/9/12</td>\n",
              "      <td>122.0</td>\n",
              "      <td>[{'iso_639_1': 'en', 'name': 'English'}, {'iso...</td>\n",
              "      <td>Released</td>\n",
              "      <td>NaN</td>\n",
              "      <td>Kahaani</td>\n",
              "      <td>[{'id': 10092, 'name': 'mystery'}, {'id': 1054...</td>\n",
              "      <td>[{'cast_id': 1, 'character': 'Vidya Bagchi', '...</td>\n",
              "      <td>[{'credit_id': '52fe48779251416c9108d6eb', 'de...</td>\n",
              "      <td>16000000</td>\n",
              "    </tr>\n",
              "    <tr>\n",
              "      <th>4</th>\n",
              "      <td>5</td>\n",
              "      <td>NaN</td>\n",
              "      <td>0</td>\n",
              "      <td>[{'id': 28, 'name': 'Action'}, {'id': 53, 'nam...</td>\n",
              "      <td>NaN</td>\n",
              "      <td>tt1380152</td>\n",
              "      <td>ko</td>\n",
              "      <td>마린보이</td>\n",
              "      <td>Marine Boy is the story of a former national s...</td>\n",
              "      <td>1.148070</td>\n",
              "      <td>/m22s7zvkVFDU9ir56PiiqIEWFdT.jpg</td>\n",
              "      <td>NaN</td>\n",
              "      <td>[{'iso_3166_1': 'KR', 'name': 'South Korea'}]</td>\n",
              "      <td>2/5/09</td>\n",
              "      <td>118.0</td>\n",
              "      <td>[{'iso_639_1': 'ko', 'name': '한국어/조선말'}]</td>\n",
              "      <td>Released</td>\n",
              "      <td>NaN</td>\n",
              "      <td>Marine Boy</td>\n",
              "      <td>NaN</td>\n",
              "      <td>[{'cast_id': 3, 'character': 'Chun-soo', 'cred...</td>\n",
              "      <td>[{'credit_id': '52fe464b9251416c75073b43', 'de...</td>\n",
              "      <td>3923970</td>\n",
              "    </tr>\n",
              "    <tr>\n",
              "      <th>...</th>\n",
              "      <td>...</td>\n",
              "      <td>...</td>\n",
              "      <td>...</td>\n",
              "      <td>...</td>\n",
              "      <td>...</td>\n",
              "      <td>...</td>\n",
              "      <td>...</td>\n",
              "      <td>...</td>\n",
              "      <td>...</td>\n",
              "      <td>...</td>\n",
              "      <td>...</td>\n",
              "      <td>...</td>\n",
              "      <td>...</td>\n",
              "      <td>...</td>\n",
              "      <td>...</td>\n",
              "      <td>...</td>\n",
              "      <td>...</td>\n",
              "      <td>...</td>\n",
              "      <td>...</td>\n",
              "      <td>...</td>\n",
              "      <td>...</td>\n",
              "      <td>...</td>\n",
              "      <td>...</td>\n",
              "    </tr>\n",
              "    <tr>\n",
              "      <th>2995</th>\n",
              "      <td>2996</td>\n",
              "      <td>NaN</td>\n",
              "      <td>0</td>\n",
              "      <td>[{'id': 35, 'name': 'Comedy'}, {'id': 10749, '...</td>\n",
              "      <td>NaN</td>\n",
              "      <td>tt0109403</td>\n",
              "      <td>en</td>\n",
              "      <td>Chasers</td>\n",
              "      <td>Military men Rock Reilly and Eddie Devane are ...</td>\n",
              "      <td>9.853270</td>\n",
              "      <td>/j8Q7pQ27hvH54wpxJzIuQgQCdro.jpg</td>\n",
              "      <td>[{'name': 'Warner Bros.', 'id': 6194}, {'name'...</td>\n",
              "      <td>[{'iso_3166_1': 'US', 'name': 'United States o...</td>\n",
              "      <td>4/22/94</td>\n",
              "      <td>102.0</td>\n",
              "      <td>[{'iso_639_1': 'en', 'name': 'English'}]</td>\n",
              "      <td>Released</td>\n",
              "      <td>It was supposed to be a routine prisoner trans...</td>\n",
              "      <td>Chasers</td>\n",
              "      <td>[{'id': 378, 'name': 'prison'}, {'id': 572, 'n...</td>\n",
              "      <td>[{'cast_id': 2, 'character': 'Rock Reilly', 'c...</td>\n",
              "      <td>[{'credit_id': '52fe4494c3a368484e02ac7d', 'de...</td>\n",
              "      <td>1596687</td>\n",
              "    </tr>\n",
              "    <tr>\n",
              "      <th>2996</th>\n",
              "      <td>2997</td>\n",
              "      <td>NaN</td>\n",
              "      <td>0</td>\n",
              "      <td>[{'id': 18, 'name': 'Drama'}, {'id': 10402, 'n...</td>\n",
              "      <td>NaN</td>\n",
              "      <td>tt2364975</td>\n",
              "      <td>sv</td>\n",
              "      <td>Vi är bäst!</td>\n",
              "      <td>Three girls in 1980s Stockholm decide to form ...</td>\n",
              "      <td>3.727996</td>\n",
              "      <td>/sS01LSy6KDrCZAhtkO18UdnWFT1.jpg</td>\n",
              "      <td>[{'name': 'Memfis Film', 'id': 321}, {'name': ...</td>\n",
              "      <td>[{'iso_3166_1': 'DK', 'name': 'Denmark'}, {'is...</td>\n",
              "      <td>3/28/13</td>\n",
              "      <td>102.0</td>\n",
              "      <td>[{'iso_639_1': 'sv', 'name': 'svenska'}]</td>\n",
              "      <td>Released</td>\n",
              "      <td>NaN</td>\n",
              "      <td>We Are the Best!</td>\n",
              "      <td>[{'id': 1192, 'name': 'sweden'}, {'id': 4470, ...</td>\n",
              "      <td>[{'cast_id': 5, 'character': 'Bobo', 'credit_i...</td>\n",
              "      <td>[{'credit_id': '5716b72ac3a3686678012c84', 'de...</td>\n",
              "      <td>180590</td>\n",
              "    </tr>\n",
              "    <tr>\n",
              "      <th>2997</th>\n",
              "      <td>2998</td>\n",
              "      <td>NaN</td>\n",
              "      <td>65000000</td>\n",
              "      <td>[{'id': 80, 'name': 'Crime'}, {'id': 28, 'name...</td>\n",
              "      <td>NaN</td>\n",
              "      <td>tt0116908</td>\n",
              "      <td>en</td>\n",
              "      <td>The Long Kiss Goodnight</td>\n",
              "      <td>Samantha Caine, suburban homemaker, is the ide...</td>\n",
              "      <td>14.482345</td>\n",
              "      <td>/4MENR8x6mYqnZvp2hGjSaPJz64J.jpg</td>\n",
              "      <td>[{'name': 'New Line Cinema', 'id': 12}, {'name...</td>\n",
              "      <td>[{'iso_3166_1': 'US', 'name': 'United States o...</td>\n",
              "      <td>10/11/96</td>\n",
              "      <td>120.0</td>\n",
              "      <td>[{'iso_639_1': 'en', 'name': 'English'}]</td>\n",
              "      <td>Released</td>\n",
              "      <td>What's forgotten is not always gone.</td>\n",
              "      <td>The Long Kiss Goodnight</td>\n",
              "      <td>[{'id': 441, 'name': 'assassination'}, {'id': ...</td>\n",
              "      <td>[{'cast_id': 10, 'character': 'Samantha Caine ...</td>\n",
              "      <td>[{'credit_id': '52fe443a9251416c7502d579', 'de...</td>\n",
              "      <td>89456761</td>\n",
              "    </tr>\n",
              "    <tr>\n",
              "      <th>2998</th>\n",
              "      <td>2999</td>\n",
              "      <td>NaN</td>\n",
              "      <td>42000000</td>\n",
              "      <td>[{'id': 35, 'name': 'Comedy'}, {'id': 10749, '...</td>\n",
              "      <td>http://www.alongcamepolly.com/</td>\n",
              "      <td>tt0343135</td>\n",
              "      <td>en</td>\n",
              "      <td>Along Came Polly</td>\n",
              "      <td>Reuben Feffer is a guy who's spent his entire ...</td>\n",
              "      <td>15.725542</td>\n",
              "      <td>/nIY4kvJTTnxoBR0wycrXng5MOYs.jpg</td>\n",
              "      <td>[{'name': 'Jersey Films', 'id': 216}, {'name':...</td>\n",
              "      <td>[{'iso_3166_1': 'US', 'name': 'United States o...</td>\n",
              "      <td>1/16/04</td>\n",
              "      <td>90.0</td>\n",
              "      <td>[{'iso_639_1': 'en', 'name': 'English'}]</td>\n",
              "      <td>Released</td>\n",
              "      <td>For the most cautious man on Earth, life is ab...</td>\n",
              "      <td>Along Came Polly</td>\n",
              "      <td>[{'id': 966, 'name': 'beach'}, {'id': 2676, 'n...</td>\n",
              "      <td>[{'cast_id': 8, 'character': 'Reuben Feffer', ...</td>\n",
              "      <td>[{'credit_id': '556f817b9251410866000a63', 'de...</td>\n",
              "      <td>171963386</td>\n",
              "    </tr>\n",
              "    <tr>\n",
              "      <th>2999</th>\n",
              "      <td>3000</td>\n",
              "      <td>NaN</td>\n",
              "      <td>35000000</td>\n",
              "      <td>[{'id': 53, 'name': 'Thriller'}, {'id': 28, 'n...</td>\n",
              "      <td>http://www.abductionthefilm.com/</td>\n",
              "      <td>tt1600195</td>\n",
              "      <td>en</td>\n",
              "      <td>Abduction</td>\n",
              "      <td>A young man sets out to uncover the truth abou...</td>\n",
              "      <td>10.512109</td>\n",
              "      <td>/cUT6NQP5LAJpmUoStGtXmvNt4zA.jpg</td>\n",
              "      <td>[{'name': 'Lions Gate Films', 'id': 35}, {'nam...</td>\n",
              "      <td>[{'iso_3166_1': 'US', 'name': 'United States o...</td>\n",
              "      <td>9/22/11</td>\n",
              "      <td>106.0</td>\n",
              "      <td>[{'iso_639_1': 'en', 'name': 'English'}]</td>\n",
              "      <td>Released</td>\n",
              "      <td>They stole his life. He's taking it back.</td>\n",
              "      <td>Abduction</td>\n",
              "      <td>[{'id': 591, 'name': 'cia'}, {'id': 822, 'name...</td>\n",
              "      <td>[{'cast_id': 2, 'character': 'Nathan Harper', ...</td>\n",
              "      <td>[{'credit_id': '5391990d0e0a260fb5001629', 'de...</td>\n",
              "      <td>82087155</td>\n",
              "    </tr>\n",
              "  </tbody>\n",
              "</table>\n",
              "<p>2993 rows × 23 columns</p>\n",
              "</div>"
            ],
            "text/plain": [
              "        id  ...    revenue\n",
              "0        1  ...   12314651\n",
              "1        2  ...   95149435\n",
              "2        3  ...   13092000\n",
              "3        4  ...   16000000\n",
              "4        5  ...    3923970\n",
              "...    ...  ...        ...\n",
              "2995  2996  ...    1596687\n",
              "2996  2997  ...     180590\n",
              "2997  2998  ...   89456761\n",
              "2998  2999  ...  171963386\n",
              "2999  3000  ...   82087155\n",
              "\n",
              "[2993 rows x 23 columns]"
            ]
          },
          "metadata": {
            "tags": []
          },
          "execution_count": 17
        }
      ]
    },
    {
      "cell_type": "code",
      "metadata": {
        "colab": {
          "base_uri": "https://localhost:8080/"
        },
        "id": "qZ6nOa5Po5AG",
        "outputId": "05bcb3b6-42eb-4899-e84f-f6419c5769c6"
      },
      "source": [
        "imdb_df_no_na_genres.shape"
      ],
      "execution_count": null,
      "outputs": [
        {
          "output_type": "execute_result",
          "data": {
            "text/plain": [
              "(2993, 23)"
            ]
          },
          "metadata": {
            "tags": []
          },
          "execution_count": 18
        }
      ]
    },
    {
      "cell_type": "code",
      "metadata": {
        "colab": {
          "base_uri": "https://localhost:8080/"
        },
        "id": "pkEtbq7WBiSb",
        "outputId": "59cdbbea-fada-460b-f7e5-8faf76cbd987"
      },
      "source": [
        "imdb_df_no_na_genres['genres']"
      ],
      "execution_count": null,
      "outputs": [
        {
          "output_type": "execute_result",
          "data": {
            "text/plain": [
              "0                          [{'id': 35, 'name': 'Comedy'}]\n",
              "1       [{'id': 35, 'name': 'Comedy'}, {'id': 18, 'nam...\n",
              "2                           [{'id': 18, 'name': 'Drama'}]\n",
              "3       [{'id': 53, 'name': 'Thriller'}, {'id': 18, 'n...\n",
              "4       [{'id': 28, 'name': 'Action'}, {'id': 53, 'nam...\n",
              "                              ...                        \n",
              "2995    [{'id': 35, 'name': 'Comedy'}, {'id': 10749, '...\n",
              "2996    [{'id': 18, 'name': 'Drama'}, {'id': 10402, 'n...\n",
              "2997    [{'id': 80, 'name': 'Crime'}, {'id': 28, 'name...\n",
              "2998    [{'id': 35, 'name': 'Comedy'}, {'id': 10749, '...\n",
              "2999    [{'id': 53, 'name': 'Thriller'}, {'id': 28, 'n...\n",
              "Name: genres, Length: 2993, dtype: object"
            ]
          },
          "metadata": {
            "tags": []
          },
          "execution_count": 19
        }
      ]
    },
    {
      "cell_type": "code",
      "metadata": {
        "id": "erd6mq58ptxQ",
        "colab": {
          "base_uri": "https://localhost:8080/",
          "height": 197
        },
        "outputId": "934a5f80-0631-4068-eda2-1856406885f3"
      },
      "source": [
        "#create the list of Genres\n",
        "genres_list=[]\n",
        "\n",
        "# Iterate over each obervation in the data frame:\n",
        "for index, row in imdb_df_no_na_genres.iterrows():\n",
        "\n",
        "  #Identify the list of geners\n",
        "  genre_list=row['genres']\n",
        " \n",
        "  # We will iterate over list of dictionaries\n",
        "  for elem in genre_list:\n",
        "    genres_list.append(elem['name'])"
      ],
      "execution_count": null,
      "outputs": [
        {
          "output_type": "error",
          "ename": "TypeError",
          "evalue": "ignored",
          "traceback": [
            "\u001b[0;31m---------------------------------------------------------------------------\u001b[0m",
            "\u001b[0;31mTypeError\u001b[0m                                 Traceback (most recent call last)",
            "\u001b[0;32m<ipython-input-20-6cfa1717d8c9>\u001b[0m in \u001b[0;36m<module>\u001b[0;34m()\u001b[0m\n\u001b[1;32m     10\u001b[0m   \u001b[0;31m# We will iterate over list of dictionaries\u001b[0m\u001b[0;34m\u001b[0m\u001b[0;34m\u001b[0m\u001b[0;34m\u001b[0m\u001b[0m\n\u001b[1;32m     11\u001b[0m   \u001b[0;32mfor\u001b[0m \u001b[0melem\u001b[0m \u001b[0;32min\u001b[0m \u001b[0mgenre_list\u001b[0m\u001b[0;34m:\u001b[0m\u001b[0;34m\u001b[0m\u001b[0;34m\u001b[0m\u001b[0m\n\u001b[0;32m---> 12\u001b[0;31m     \u001b[0mgenres_list\u001b[0m\u001b[0;34m.\u001b[0m\u001b[0mappend\u001b[0m\u001b[0;34m(\u001b[0m\u001b[0melem\u001b[0m\u001b[0;34m[\u001b[0m\u001b[0;34m'name'\u001b[0m\u001b[0;34m]\u001b[0m\u001b[0;34m)\u001b[0m\u001b[0;34m\u001b[0m\u001b[0;34m\u001b[0m\u001b[0m\n\u001b[0m",
            "\u001b[0;31mTypeError\u001b[0m: string indices must be integers"
          ]
        }
      ]
    },
    {
      "cell_type": "code",
      "metadata": {
        "colab": {
          "base_uri": "https://localhost:8080/"
        },
        "id": "DrvcZhqn3r-4",
        "outputId": "014d00ea-fe0b-45e4-ae8c-397db8d9dbef"
      },
      "source": [
        "set(genres_list)"
      ],
      "execution_count": null,
      "outputs": [
        {
          "output_type": "execute_result",
          "data": {
            "text/plain": [
              "set()"
            ]
          },
          "metadata": {
            "tags": []
          },
          "execution_count": 16
        }
      ]
    },
    {
      "cell_type": "code",
      "metadata": {
        "id": "aMDASGYj30n6"
      },
      "source": [
        " crew_list"
      ],
      "execution_count": null,
      "outputs": []
    },
    {
      "cell_type": "markdown",
      "metadata": {
        "id": "Q1Z4uB8RTWpm"
      },
      "source": [
        "# 4)Make a table of all the producers and directors of each movie. Find the top 3 producers who have produced movies with the highest average RoI?\n"
      ]
    },
    {
      "cell_type": "code",
      "metadata": {
        "colab": {
          "base_uri": "https://localhost:8080/",
          "height": 419
        },
        "id": "Ssm-DpDcTqRP",
        "outputId": "bd091e05-5692-459e-ac2c-17462f861b0b"
      },
      "source": [
        " #Create a dataframe in which we have no null observations for the column crew:\n",
        " imdb_df_no_na_crew=imdb_df_new[~imdb_df_new['crew'].isna()]\n",
        " imdb_df_no_na_crew"
      ],
      "execution_count": null,
      "outputs": [
        {
          "output_type": "execute_result",
          "data": {
            "text/html": [
              "<div>\n",
              "<style scoped>\n",
              "    .dataframe tbody tr th:only-of-type {\n",
              "        vertical-align: middle;\n",
              "    }\n",
              "\n",
              "    .dataframe tbody tr th {\n",
              "        vertical-align: top;\n",
              "    }\n",
              "\n",
              "    .dataframe thead th {\n",
              "        text-align: right;\n",
              "    }\n",
              "</style>\n",
              "<table border=\"1\" class=\"dataframe\">\n",
              "  <thead>\n",
              "    <tr style=\"text-align: right;\">\n",
              "      <th></th>\n",
              "      <th>budget</th>\n",
              "      <th>genres</th>\n",
              "      <th>imdb_id</th>\n",
              "      <th>original_language</th>\n",
              "      <th>original_title</th>\n",
              "      <th>revenue</th>\n",
              "      <th>cast</th>\n",
              "      <th>crew</th>\n",
              "      <th>profit</th>\n",
              "      <th>roi</th>\n",
              "    </tr>\n",
              "  </thead>\n",
              "  <tbody>\n",
              "    <tr>\n",
              "      <th>0</th>\n",
              "      <td>14000000</td>\n",
              "      <td>[{'id': 35, 'name': 'Comedy'}]</td>\n",
              "      <td>tt2637294</td>\n",
              "      <td>en</td>\n",
              "      <td>Hot Tub Time Machine 2</td>\n",
              "      <td>12314651</td>\n",
              "      <td>[{'cast_id': 4, 'character': 'Lou', 'credit_id...</td>\n",
              "      <td>[{'credit_id': '59ac067c92514107af02c8c8', 'de...</td>\n",
              "      <td>-1685349</td>\n",
              "      <td>-12.038207</td>\n",
              "    </tr>\n",
              "    <tr>\n",
              "      <th>1</th>\n",
              "      <td>40000000</td>\n",
              "      <td>[{'id': 35, 'name': 'Comedy'}, {'id': 18, 'nam...</td>\n",
              "      <td>tt0368933</td>\n",
              "      <td>en</td>\n",
              "      <td>The Princess Diaries 2: Royal Engagement</td>\n",
              "      <td>95149435</td>\n",
              "      <td>[{'cast_id': 1, 'character': 'Mia Thermopolis'...</td>\n",
              "      <td>[{'credit_id': '52fe43fe9251416c7502563d', 'de...</td>\n",
              "      <td>55149435</td>\n",
              "      <td>137.873588</td>\n",
              "    </tr>\n",
              "    <tr>\n",
              "      <th>2</th>\n",
              "      <td>3300000</td>\n",
              "      <td>[{'id': 18, 'name': 'Drama'}]</td>\n",
              "      <td>tt2582802</td>\n",
              "      <td>en</td>\n",
              "      <td>Whiplash</td>\n",
              "      <td>13092000</td>\n",
              "      <td>[{'cast_id': 5, 'character': 'Andrew Neimann',...</td>\n",
              "      <td>[{'credit_id': '54d5356ec3a3683ba0000039', 'de...</td>\n",
              "      <td>9792000</td>\n",
              "      <td>296.727273</td>\n",
              "    </tr>\n",
              "    <tr>\n",
              "      <th>3</th>\n",
              "      <td>1200000</td>\n",
              "      <td>[{'id': 53, 'name': 'Thriller'}, {'id': 18, 'n...</td>\n",
              "      <td>tt1821480</td>\n",
              "      <td>hi</td>\n",
              "      <td>Kahaani</td>\n",
              "      <td>16000000</td>\n",
              "      <td>[{'cast_id': 1, 'character': 'Vidya Bagchi', '...</td>\n",
              "      <td>[{'credit_id': '52fe48779251416c9108d6eb', 'de...</td>\n",
              "      <td>14800000</td>\n",
              "      <td>1233.333333</td>\n",
              "    </tr>\n",
              "    <tr>\n",
              "      <th>4</th>\n",
              "      <td>16450000</td>\n",
              "      <td>[{'id': 28, 'name': 'Action'}, {'id': 53, 'nam...</td>\n",
              "      <td>tt1380152</td>\n",
              "      <td>ko</td>\n",
              "      <td>마린보이</td>\n",
              "      <td>3923970</td>\n",
              "      <td>[{'cast_id': 3, 'character': 'Chun-soo', 'cred...</td>\n",
              "      <td>[{'credit_id': '52fe464b9251416c75073b43', 'de...</td>\n",
              "      <td>-12526030</td>\n",
              "      <td>-76.146079</td>\n",
              "    </tr>\n",
              "    <tr>\n",
              "      <th>...</th>\n",
              "      <td>...</td>\n",
              "      <td>...</td>\n",
              "      <td>...</td>\n",
              "      <td>...</td>\n",
              "      <td>...</td>\n",
              "      <td>...</td>\n",
              "      <td>...</td>\n",
              "      <td>...</td>\n",
              "      <td>...</td>\n",
              "      <td>...</td>\n",
              "    </tr>\n",
              "    <tr>\n",
              "      <th>2995</th>\n",
              "      <td>16450000</td>\n",
              "      <td>[{'id': 35, 'name': 'Comedy'}, {'id': 10749, '...</td>\n",
              "      <td>tt0109403</td>\n",
              "      <td>en</td>\n",
              "      <td>Chasers</td>\n",
              "      <td>1596687</td>\n",
              "      <td>[{'cast_id': 2, 'character': 'Rock Reilly', 'c...</td>\n",
              "      <td>[{'credit_id': '52fe4494c3a368484e02ac7d', 'de...</td>\n",
              "      <td>-14853313</td>\n",
              "      <td>-90.293696</td>\n",
              "    </tr>\n",
              "    <tr>\n",
              "      <th>2996</th>\n",
              "      <td>16450000</td>\n",
              "      <td>[{'id': 18, 'name': 'Drama'}, {'id': 10402, 'n...</td>\n",
              "      <td>tt2364975</td>\n",
              "      <td>sv</td>\n",
              "      <td>Vi är bäst!</td>\n",
              "      <td>180590</td>\n",
              "      <td>[{'cast_id': 5, 'character': 'Bobo', 'credit_i...</td>\n",
              "      <td>[{'credit_id': '5716b72ac3a3686678012c84', 'de...</td>\n",
              "      <td>-16269410</td>\n",
              "      <td>-98.902188</td>\n",
              "    </tr>\n",
              "    <tr>\n",
              "      <th>2997</th>\n",
              "      <td>65000000</td>\n",
              "      <td>[{'id': 80, 'name': 'Crime'}, {'id': 28, 'name...</td>\n",
              "      <td>tt0116908</td>\n",
              "      <td>en</td>\n",
              "      <td>The Long Kiss Goodnight</td>\n",
              "      <td>89456761</td>\n",
              "      <td>[{'cast_id': 10, 'character': 'Samantha Caine ...</td>\n",
              "      <td>[{'credit_id': '52fe443a9251416c7502d579', 'de...</td>\n",
              "      <td>24456761</td>\n",
              "      <td>37.625786</td>\n",
              "    </tr>\n",
              "    <tr>\n",
              "      <th>2998</th>\n",
              "      <td>42000000</td>\n",
              "      <td>[{'id': 35, 'name': 'Comedy'}, {'id': 10749, '...</td>\n",
              "      <td>tt0343135</td>\n",
              "      <td>en</td>\n",
              "      <td>Along Came Polly</td>\n",
              "      <td>171963386</td>\n",
              "      <td>[{'cast_id': 8, 'character': 'Reuben Feffer', ...</td>\n",
              "      <td>[{'credit_id': '556f817b9251410866000a63', 'de...</td>\n",
              "      <td>129963386</td>\n",
              "      <td>309.436633</td>\n",
              "    </tr>\n",
              "    <tr>\n",
              "      <th>2999</th>\n",
              "      <td>35000000</td>\n",
              "      <td>[{'id': 53, 'name': 'Thriller'}, {'id': 28, 'n...</td>\n",
              "      <td>tt1600195</td>\n",
              "      <td>en</td>\n",
              "      <td>Abduction</td>\n",
              "      <td>82087155</td>\n",
              "      <td>[{'cast_id': 2, 'character': 'Nathan Harper', ...</td>\n",
              "      <td>[{'credit_id': '5391990d0e0a260fb5001629', 'de...</td>\n",
              "      <td>47087155</td>\n",
              "      <td>134.534729</td>\n",
              "    </tr>\n",
              "  </tbody>\n",
              "</table>\n",
              "<p>2984 rows × 10 columns</p>\n",
              "</div>"
            ],
            "text/plain": [
              "        budget  ...          roi\n",
              "0     14000000  ...   -12.038207\n",
              "1     40000000  ...   137.873588\n",
              "2      3300000  ...   296.727273\n",
              "3      1200000  ...  1233.333333\n",
              "4     16450000  ...   -76.146079\n",
              "...        ...  ...          ...\n",
              "2995  16450000  ...   -90.293696\n",
              "2996  16450000  ...   -98.902188\n",
              "2997  65000000  ...    37.625786\n",
              "2998  42000000  ...   309.436633\n",
              "2999  35000000  ...   134.534729\n",
              "\n",
              "[2984 rows x 10 columns]"
            ]
          },
          "metadata": {
            "tags": []
          },
          "execution_count": 59
        }
      ]
    },
    {
      "cell_type": "code",
      "metadata": {
        "id": "3C4MbsBoaXRT"
      },
      "source": [
        "# Creating a function which returns the list of Producers and Directors for each movie:\n",
        "def get_producers_and_directors(row):\n",
        "  try:\n",
        "    # Initialize two lists corresponding to producer and Director\n",
        "    producer_list=[]\n",
        "    director_list=[]\n",
        "\n",
        "    # Iterate over the list elements\n",
        "    for elem in row['crew']:\n",
        "\n",
        "      if elem['job']=='Producer':\n",
        "        # Append the name of the producer to the producer list\n",
        "        producer_list.append(elem['name'])\n",
        "\n",
        "      if elem['job']=='Director':\n",
        "        # Append the name of the director to the director list\n",
        "        director_list.append(elem['name'])\n",
        "\n",
        "    row['producers']=producer_list\n",
        "    row['directors']=director_list\n",
        "    return row\n",
        "  \n",
        "  except:\n",
        "    return None"
      ],
      "execution_count": null,
      "outputs": []
    },
    {
      "cell_type": "code",
      "metadata": {
        "colab": {
          "base_uri": "https://localhost:8080/"
        },
        "id": "HhHybDOC_-N9",
        "outputId": "454dd5c6-4590-46f1-e8e3-b1ece4ba33b5"
      },
      "source": [
        "get_producers_and_directors(imdb_df_no_na_crew.loc[1])"
      ],
      "execution_count": null,
      "outputs": [
        {
          "output_type": "stream",
          "text": [
            "/usr/local/lib/python3.7/dist-packages/ipykernel_launcher.py:19: SettingWithCopyWarning: \n",
            "A value is trying to be set on a copy of a slice from a DataFrame\n",
            "\n",
            "See the caveats in the documentation: https://pandas.pydata.org/pandas-docs/stable/user_guide/indexing.html#returning-a-view-versus-a-copy\n",
            "/usr/local/lib/python3.7/dist-packages/pandas/core/indexing.py:670: SettingWithCopyWarning: \n",
            "A value is trying to be set on a copy of a slice from a DataFrame\n",
            "\n",
            "See the caveats in the documentation: https://pandas.pydata.org/pandas-docs/stable/user_guide/indexing.html#returning-a-view-versus-a-copy\n",
            "  iloc._setitem_with_indexer(indexer, value)\n",
            "/usr/local/lib/python3.7/dist-packages/ipykernel_launcher.py:20: SettingWithCopyWarning: \n",
            "A value is trying to be set on a copy of a slice from a DataFrame\n",
            "\n",
            "See the caveats in the documentation: https://pandas.pydata.org/pandas-docs/stable/user_guide/indexing.html#returning-a-view-versus-a-copy\n"
          ],
          "name": "stderr"
        },
        {
          "output_type": "execute_result",
          "data": {
            "text/plain": [
              "budget                                                        40000000\n",
              "genres               [{'id': 35, 'name': 'Comedy'}, {'id': 18, 'nam...\n",
              "imdb_id                                                      tt0368933\n",
              "original_language                                                   en\n",
              "original_title                The Princess Diaries 2: Royal Engagement\n",
              "revenue                                                       95149435\n",
              "cast                 [{'cast_id': 1, 'character': 'Mia Thermopolis'...\n",
              "crew                 [{'credit_id': '52fe43fe9251416c7502563d', 'de...\n",
              "profit                                                        55149435\n",
              "roi                                                            137.874\n",
              "producers            [Whitney Houston, Mario Iscovich, Debra Martin...\n",
              "directors                                             [Garry Marshall]\n",
              "Name: 1, dtype: object"
            ]
          },
          "metadata": {
            "tags": []
          },
          "execution_count": 61
        }
      ]
    },
    {
      "cell_type": "code",
      "metadata": {
        "id": "2ts96Y9VAIq1"
      },
      "source": [
        " imdb_df_new2 = imdb_df_new.apply(get_producers_and_directors,axis=1)"
      ],
      "execution_count": null,
      "outputs": []
    },
    {
      "cell_type": "code",
      "metadata": {
        "colab": {
          "base_uri": "https://localhost:8080/",
          "height": 759
        },
        "id": "zuLpKG9TCL5b",
        "outputId": "23db0805-cf87-45d0-892c-f276f1104b61"
      },
      "source": [
        "imdb_df_new2"
      ],
      "execution_count": null,
      "outputs": [
        {
          "output_type": "execute_result",
          "data": {
            "text/html": [
              "<div>\n",
              "<style scoped>\n",
              "    .dataframe tbody tr th:only-of-type {\n",
              "        vertical-align: middle;\n",
              "    }\n",
              "\n",
              "    .dataframe tbody tr th {\n",
              "        vertical-align: top;\n",
              "    }\n",
              "\n",
              "    .dataframe thead th {\n",
              "        text-align: right;\n",
              "    }\n",
              "</style>\n",
              "<table border=\"1\" class=\"dataframe\">\n",
              "  <thead>\n",
              "    <tr style=\"text-align: right;\">\n",
              "      <th></th>\n",
              "      <th>budget</th>\n",
              "      <th>genres</th>\n",
              "      <th>imdb_id</th>\n",
              "      <th>original_language</th>\n",
              "      <th>original_title</th>\n",
              "      <th>revenue</th>\n",
              "      <th>cast</th>\n",
              "      <th>crew</th>\n",
              "      <th>profit</th>\n",
              "      <th>roi</th>\n",
              "      <th>producers</th>\n",
              "      <th>directors</th>\n",
              "    </tr>\n",
              "  </thead>\n",
              "  <tbody>\n",
              "    <tr>\n",
              "      <th>0</th>\n",
              "      <td>14000000.0</td>\n",
              "      <td>[{'id': 35, 'name': 'Comedy'}]</td>\n",
              "      <td>tt2637294</td>\n",
              "      <td>en</td>\n",
              "      <td>Hot Tub Time Machine 2</td>\n",
              "      <td>12314651.0</td>\n",
              "      <td>[{'cast_id': 4, 'character': 'Lou', 'credit_id...</td>\n",
              "      <td>[{'credit_id': '59ac067c92514107af02c8c8', 'de...</td>\n",
              "      <td>-1685349.0</td>\n",
              "      <td>-12.038207</td>\n",
              "      <td>[Andrew Panay]</td>\n",
              "      <td>[Steve Pink]</td>\n",
              "    </tr>\n",
              "    <tr>\n",
              "      <th>1</th>\n",
              "      <td>40000000.0</td>\n",
              "      <td>[{'id': 35, 'name': 'Comedy'}, {'id': 18, 'nam...</td>\n",
              "      <td>tt0368933</td>\n",
              "      <td>en</td>\n",
              "      <td>The Princess Diaries 2: Royal Engagement</td>\n",
              "      <td>95149435.0</td>\n",
              "      <td>[{'cast_id': 1, 'character': 'Mia Thermopolis'...</td>\n",
              "      <td>[{'credit_id': '52fe43fe9251416c7502563d', 'de...</td>\n",
              "      <td>55149435.0</td>\n",
              "      <td>137.873588</td>\n",
              "      <td>[Whitney Houston, Mario Iscovich, Debra Martin...</td>\n",
              "      <td>[Garry Marshall]</td>\n",
              "    </tr>\n",
              "    <tr>\n",
              "      <th>2</th>\n",
              "      <td>3300000.0</td>\n",
              "      <td>[{'id': 18, 'name': 'Drama'}]</td>\n",
              "      <td>tt2582802</td>\n",
              "      <td>en</td>\n",
              "      <td>Whiplash</td>\n",
              "      <td>13092000.0</td>\n",
              "      <td>[{'cast_id': 5, 'character': 'Andrew Neimann',...</td>\n",
              "      <td>[{'credit_id': '54d5356ec3a3683ba0000039', 'de...</td>\n",
              "      <td>9792000.0</td>\n",
              "      <td>296.727273</td>\n",
              "      <td>[David Lancaster, Michel Litvak, Jason Blum, H...</td>\n",
              "      <td>[Damien Chazelle]</td>\n",
              "    </tr>\n",
              "    <tr>\n",
              "      <th>3</th>\n",
              "      <td>1200000.0</td>\n",
              "      <td>[{'id': 53, 'name': 'Thriller'}, {'id': 18, 'n...</td>\n",
              "      <td>tt1821480</td>\n",
              "      <td>hi</td>\n",
              "      <td>Kahaani</td>\n",
              "      <td>16000000.0</td>\n",
              "      <td>[{'cast_id': 1, 'character': 'Vidya Bagchi', '...</td>\n",
              "      <td>[{'credit_id': '52fe48779251416c9108d6eb', 'de...</td>\n",
              "      <td>14800000.0</td>\n",
              "      <td>1233.333333</td>\n",
              "      <td>[Sujoy Ghosh]</td>\n",
              "      <td>[Sujoy Ghosh]</td>\n",
              "    </tr>\n",
              "    <tr>\n",
              "      <th>4</th>\n",
              "      <td>16450000.0</td>\n",
              "      <td>[{'id': 28, 'name': 'Action'}, {'id': 53, 'nam...</td>\n",
              "      <td>tt1380152</td>\n",
              "      <td>ko</td>\n",
              "      <td>마린보이</td>\n",
              "      <td>3923970.0</td>\n",
              "      <td>[{'cast_id': 3, 'character': 'Chun-soo', 'cred...</td>\n",
              "      <td>[{'credit_id': '52fe464b9251416c75073b43', 'de...</td>\n",
              "      <td>-12526030.0</td>\n",
              "      <td>-76.146079</td>\n",
              "      <td>[]</td>\n",
              "      <td>[Jong-seok Yoon]</td>\n",
              "    </tr>\n",
              "    <tr>\n",
              "      <th>...</th>\n",
              "      <td>...</td>\n",
              "      <td>...</td>\n",
              "      <td>...</td>\n",
              "      <td>...</td>\n",
              "      <td>...</td>\n",
              "      <td>...</td>\n",
              "      <td>...</td>\n",
              "      <td>...</td>\n",
              "      <td>...</td>\n",
              "      <td>...</td>\n",
              "      <td>...</td>\n",
              "      <td>...</td>\n",
              "    </tr>\n",
              "    <tr>\n",
              "      <th>2995</th>\n",
              "      <td>16450000.0</td>\n",
              "      <td>[{'id': 35, 'name': 'Comedy'}, {'id': 10749, '...</td>\n",
              "      <td>tt0109403</td>\n",
              "      <td>en</td>\n",
              "      <td>Chasers</td>\n",
              "      <td>1596687.0</td>\n",
              "      <td>[{'cast_id': 2, 'character': 'Rock Reilly', 'c...</td>\n",
              "      <td>[{'credit_id': '52fe4494c3a368484e02ac7d', 'de...</td>\n",
              "      <td>-14853313.0</td>\n",
              "      <td>-90.293696</td>\n",
              "      <td>[James G. Robinson]</td>\n",
              "      <td>[Dennis Hopper]</td>\n",
              "    </tr>\n",
              "    <tr>\n",
              "      <th>2996</th>\n",
              "      <td>16450000.0</td>\n",
              "      <td>[{'id': 18, 'name': 'Drama'}, {'id': 10402, 'n...</td>\n",
              "      <td>tt2364975</td>\n",
              "      <td>sv</td>\n",
              "      <td>Vi är bäst!</td>\n",
              "      <td>180590.0</td>\n",
              "      <td>[{'cast_id': 5, 'character': 'Bobo', 'credit_i...</td>\n",
              "      <td>[{'credit_id': '5716b72ac3a3686678012c84', 'de...</td>\n",
              "      <td>-16269410.0</td>\n",
              "      <td>-98.902188</td>\n",
              "      <td>[Lars J√∂nsson]</td>\n",
              "      <td>[Lukas Moodysson]</td>\n",
              "    </tr>\n",
              "    <tr>\n",
              "      <th>2997</th>\n",
              "      <td>65000000.0</td>\n",
              "      <td>[{'id': 80, 'name': 'Crime'}, {'id': 28, 'name...</td>\n",
              "      <td>tt0116908</td>\n",
              "      <td>en</td>\n",
              "      <td>The Long Kiss Goodnight</td>\n",
              "      <td>89456761.0</td>\n",
              "      <td>[{'cast_id': 10, 'character': 'Samantha Caine ...</td>\n",
              "      <td>[{'credit_id': '52fe443a9251416c7502d579', 'de...</td>\n",
              "      <td>24456761.0</td>\n",
              "      <td>37.625786</td>\n",
              "      <td>[Stephanie Austin, Shane Black, Renny Harlin, ...</td>\n",
              "      <td>[Renny Harlin]</td>\n",
              "    </tr>\n",
              "    <tr>\n",
              "      <th>2998</th>\n",
              "      <td>42000000.0</td>\n",
              "      <td>[{'id': 35, 'name': 'Comedy'}, {'id': 10749, '...</td>\n",
              "      <td>tt0343135</td>\n",
              "      <td>en</td>\n",
              "      <td>Along Came Polly</td>\n",
              "      <td>171963386.0</td>\n",
              "      <td>[{'cast_id': 8, 'character': 'Reuben Feffer', ...</td>\n",
              "      <td>[{'credit_id': '556f817b9251410866000a63', 'de...</td>\n",
              "      <td>129963386.0</td>\n",
              "      <td>309.436633</td>\n",
              "      <td>[Danny DeVito, Michael Shamberg, Stacey Sher]</td>\n",
              "      <td>[John Hamburg]</td>\n",
              "    </tr>\n",
              "    <tr>\n",
              "      <th>2999</th>\n",
              "      <td>35000000.0</td>\n",
              "      <td>[{'id': 53, 'name': 'Thriller'}, {'id': 28, 'n...</td>\n",
              "      <td>tt1600195</td>\n",
              "      <td>en</td>\n",
              "      <td>Abduction</td>\n",
              "      <td>82087155.0</td>\n",
              "      <td>[{'cast_id': 2, 'character': 'Nathan Harper', ...</td>\n",
              "      <td>[{'credit_id': '5391990d0e0a260fb5001629', 'de...</td>\n",
              "      <td>47087155.0</td>\n",
              "      <td>134.534729</td>\n",
              "      <td>[Doug Davison, Roy Lee, Ellen Goldsmith-Vein, ...</td>\n",
              "      <td>[John Singleton]</td>\n",
              "    </tr>\n",
              "  </tbody>\n",
              "</table>\n",
              "<p>3000 rows × 12 columns</p>\n",
              "</div>"
            ],
            "text/plain": [
              "          budget  ...          directors\n",
              "0     14000000.0  ...       [Steve Pink]\n",
              "1     40000000.0  ...   [Garry Marshall]\n",
              "2      3300000.0  ...  [Damien Chazelle]\n",
              "3      1200000.0  ...      [Sujoy Ghosh]\n",
              "4     16450000.0  ...   [Jong-seok Yoon]\n",
              "...          ...  ...                ...\n",
              "2995  16450000.0  ...    [Dennis Hopper]\n",
              "2996  16450000.0  ...  [Lukas Moodysson]\n",
              "2997  65000000.0  ...     [Renny Harlin]\n",
              "2998  42000000.0  ...     [John Hamburg]\n",
              "2999  35000000.0  ...   [John Singleton]\n",
              "\n",
              "[3000 rows x 12 columns]"
            ]
          },
          "metadata": {
            "tags": []
          },
          "execution_count": 64
        }
      ]
    },
    {
      "cell_type": "markdown",
      "metadata": {
        "id": "MEeG08DwCsTc"
      },
      "source": [
        "# Alternate approach\n"
      ]
    },
    {
      "cell_type": "code",
      "metadata": {
        "id": "cUbWYCq6CQ3K"
      },
      "source": [
        "# Creating a function which returns the list of Producers and Directors for each movie:\n",
        "def func_producers_and_directors(crew_list):\n",
        "  try:\n",
        "    # Initialize two lists corresponding to producer and Director\n",
        "    producer_list=[]\n",
        "    director_list=[]\n",
        "\n",
        "    # Iterate over the list elements\n",
        "    for elem in crew_list:\n",
        "\n",
        "      if elem['job']=='Producer':\n",
        "        # Append the name of the producer to the producer list\n",
        "        producer_list.append(elem['name'])\n",
        "\n",
        "      if elem['job']=='Director':\n",
        "        # Append the name of the director to the director list\n",
        "        director_list.append(elem['name'])\n",
        "\n",
        "    \n",
        "    return producer_list,director_list\n",
        "  \n",
        "  except:\n",
        "    return [],[]"
      ],
      "execution_count": null,
      "outputs": []
    },
    {
      "cell_type": "code",
      "metadata": {
        "id": "wHdb2GtMEnjY"
      },
      "source": [
        "imdb_df_new.loc[1,'crew']"
      ],
      "execution_count": null,
      "outputs": []
    },
    {
      "cell_type": "code",
      "metadata": {
        "colab": {
          "base_uri": "https://localhost:8080/"
        },
        "id": "CRsYahMeEnUJ",
        "outputId": "926c19b3-1db8-4f6e-a3c5-53fd39e8ad54"
      },
      "source": [
        "func_producers_and_directors(imdb_df_new.loc[1,'crew'])"
      ],
      "execution_count": null,
      "outputs": [
        {
          "output_type": "execute_result",
          "data": {
            "text/plain": [
              "(['Whitney Houston', 'Mario Iscovich', 'Debra Martin Chase'],\n",
              " ['Garry Marshall'])"
            ]
          },
          "metadata": {
            "tags": []
          },
          "execution_count": 74
        }
      ]
    },
    {
      "cell_type": "code",
      "metadata": {
        "id": "-PnitwmVDEwl"
      },
      "source": [
        "# Creating the two columns producers and directors\n",
        "imdb_df_new[['producers','directors']]=imdb_df_new.apply(lambda row: func_producers_and_directors(row['crew']),axis=1, result_type='expand')\n"
      ],
      "execution_count": null,
      "outputs": []
    },
    {
      "cell_type": "code",
      "metadata": {
        "id": "jI32qM_xD5Yn"
      },
      "source": [
        "imdb_df_new.drop(['producers','directors'],axis=1,inplace=True)"
      ],
      "execution_count": null,
      "outputs": []
    },
    {
      "cell_type": "code",
      "metadata": {
        "colab": {
          "base_uri": "https://localhost:8080/",
          "height": 289
        },
        "id": "u-adWeD8EEXg",
        "outputId": "d079e30c-329e-460b-b8b0-9ff946025c0d"
      },
      "source": [
        "imdb_df_new.head()"
      ],
      "execution_count": null,
      "outputs": [
        {
          "output_type": "execute_result",
          "data": {
            "text/html": [
              "<div>\n",
              "<style scoped>\n",
              "    .dataframe tbody tr th:only-of-type {\n",
              "        vertical-align: middle;\n",
              "    }\n",
              "\n",
              "    .dataframe tbody tr th {\n",
              "        vertical-align: top;\n",
              "    }\n",
              "\n",
              "    .dataframe thead th {\n",
              "        text-align: right;\n",
              "    }\n",
              "</style>\n",
              "<table border=\"1\" class=\"dataframe\">\n",
              "  <thead>\n",
              "    <tr style=\"text-align: right;\">\n",
              "      <th></th>\n",
              "      <th>budget</th>\n",
              "      <th>genres</th>\n",
              "      <th>imdb_id</th>\n",
              "      <th>original_language</th>\n",
              "      <th>original_title</th>\n",
              "      <th>revenue</th>\n",
              "      <th>cast</th>\n",
              "      <th>crew</th>\n",
              "      <th>profit</th>\n",
              "      <th>roi</th>\n",
              "      <th>producers</th>\n",
              "      <th>directors</th>\n",
              "    </tr>\n",
              "  </thead>\n",
              "  <tbody>\n",
              "    <tr>\n",
              "      <th>0</th>\n",
              "      <td>14000000</td>\n",
              "      <td>[{'id': 35, 'name': 'Comedy'}]</td>\n",
              "      <td>tt2637294</td>\n",
              "      <td>en</td>\n",
              "      <td>Hot Tub Time Machine 2</td>\n",
              "      <td>12314651</td>\n",
              "      <td>[{'cast_id': 4, 'character': 'Lou', 'credit_id...</td>\n",
              "      <td>[{'credit_id': '59ac067c92514107af02c8c8', 'de...</td>\n",
              "      <td>-1685349</td>\n",
              "      <td>-12.038207</td>\n",
              "      <td>[Andrew Panay]</td>\n",
              "      <td>[Steve Pink]</td>\n",
              "    </tr>\n",
              "    <tr>\n",
              "      <th>1</th>\n",
              "      <td>40000000</td>\n",
              "      <td>[{'id': 35, 'name': 'Comedy'}, {'id': 18, 'nam...</td>\n",
              "      <td>tt0368933</td>\n",
              "      <td>en</td>\n",
              "      <td>The Princess Diaries 2: Royal Engagement</td>\n",
              "      <td>95149435</td>\n",
              "      <td>[{'cast_id': 1, 'character': 'Mia Thermopolis'...</td>\n",
              "      <td>[{'credit_id': '52fe43fe9251416c7502563d', 'de...</td>\n",
              "      <td>55149435</td>\n",
              "      <td>137.873588</td>\n",
              "      <td>[Whitney Houston, Mario Iscovich, Debra Martin...</td>\n",
              "      <td>[Garry Marshall]</td>\n",
              "    </tr>\n",
              "    <tr>\n",
              "      <th>2</th>\n",
              "      <td>3300000</td>\n",
              "      <td>[{'id': 18, 'name': 'Drama'}]</td>\n",
              "      <td>tt2582802</td>\n",
              "      <td>en</td>\n",
              "      <td>Whiplash</td>\n",
              "      <td>13092000</td>\n",
              "      <td>[{'cast_id': 5, 'character': 'Andrew Neimann',...</td>\n",
              "      <td>[{'credit_id': '54d5356ec3a3683ba0000039', 'de...</td>\n",
              "      <td>9792000</td>\n",
              "      <td>296.727273</td>\n",
              "      <td>[David Lancaster, Michel Litvak, Jason Blum, H...</td>\n",
              "      <td>[Damien Chazelle]</td>\n",
              "    </tr>\n",
              "    <tr>\n",
              "      <th>3</th>\n",
              "      <td>1200000</td>\n",
              "      <td>[{'id': 53, 'name': 'Thriller'}, {'id': 18, 'n...</td>\n",
              "      <td>tt1821480</td>\n",
              "      <td>hi</td>\n",
              "      <td>Kahaani</td>\n",
              "      <td>16000000</td>\n",
              "      <td>[{'cast_id': 1, 'character': 'Vidya Bagchi', '...</td>\n",
              "      <td>[{'credit_id': '52fe48779251416c9108d6eb', 'de...</td>\n",
              "      <td>14800000</td>\n",
              "      <td>1233.333333</td>\n",
              "      <td>[Sujoy Ghosh]</td>\n",
              "      <td>[Sujoy Ghosh]</td>\n",
              "    </tr>\n",
              "    <tr>\n",
              "      <th>4</th>\n",
              "      <td>16450000</td>\n",
              "      <td>[{'id': 28, 'name': 'Action'}, {'id': 53, 'nam...</td>\n",
              "      <td>tt1380152</td>\n",
              "      <td>ko</td>\n",
              "      <td>마린보이</td>\n",
              "      <td>3923970</td>\n",
              "      <td>[{'cast_id': 3, 'character': 'Chun-soo', 'cred...</td>\n",
              "      <td>[{'credit_id': '52fe464b9251416c75073b43', 'de...</td>\n",
              "      <td>-12526030</td>\n",
              "      <td>-76.146079</td>\n",
              "      <td>[]</td>\n",
              "      <td>[Jong-seok Yoon]</td>\n",
              "    </tr>\n",
              "  </tbody>\n",
              "</table>\n",
              "</div>"
            ],
            "text/plain": [
              "     budget  ...          directors\n",
              "0  14000000  ...       [Steve Pink]\n",
              "1  40000000  ...   [Garry Marshall]\n",
              "2   3300000  ...  [Damien Chazelle]\n",
              "3   1200000  ...      [Sujoy Ghosh]\n",
              "4  16450000  ...   [Jong-seok Yoon]\n",
              "\n",
              "[5 rows x 12 columns]"
            ]
          },
          "metadata": {
            "tags": []
          },
          "execution_count": 72
        }
      ]
    },
    {
      "cell_type": "code",
      "metadata": {
        "id": "eLgIIPc2EMnv"
      },
      "source": [
        ""
      ],
      "execution_count": null,
      "outputs": []
    }
  ]
}